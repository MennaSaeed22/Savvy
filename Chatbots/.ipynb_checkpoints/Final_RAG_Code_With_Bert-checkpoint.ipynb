{
 "cells": [
  {
   "cell_type": "markdown",
   "id": "09b654d1",
   "metadata": {},
   "source": [
    "This notebook builds a Retrieval-Augmented Generation (RAG) chatbot that retrieves relevant information from PDF documents and generates responses using a Language Model (LLM). The chatbot processes PDFs, extracts text, embeds it in a vector database, and performs semantic search for accurate answers."
   ]
  },
  {
   "cell_type": "markdown",
   "id": "514b418d",
   "metadata": {},
   "source": [
    "## 1- Import Libraries "
   ]
  },
  {
   "cell_type": "code",
   "execution_count": 46,
   "id": "35f93dca",
   "metadata": {},
   "outputs": [],
   "source": [
    "import os\n",
    "from langchain_fireworks import ChatFireworks\n",
    "from langchain_fireworks import Fireworks\n",
    "from langchain_fireworks import FireworksEmbeddings\n",
    "from langchain.document_loaders import PyPDFLoader\n",
    "from langchain.text_splitter import RecursiveCharacterTextSplitter\n",
    "from langchain.vectorstores import FAISS\n",
    "from langchain.chains import RetrievalQA\n",
    "from langchain.vectorstores import Chroma\n",
    "from langchain.chains import ConversationalRetrievalChain\n",
    "from langchain.memory import ConversationBufferMemory\n",
    "from langchain.prompts import PromptTemplate\n",
    "import warnings\n",
    "import pandas as pd\n",
    "import numpy as np\n",
    "from datetime import datetime, timedelta\n",
    "from langchain.retrievers import EnsembleRetriever\n",
    "import re\n",
    "from dateparser import parse\n",
    "from dateparser.search import search_dates\n",
    "from datetime import datetime"
   ]
  },
  {
   "cell_type": "markdown",
   "id": "6769ee25",
   "metadata": {},
   "source": [
    "## 2- Set API key "
   ]
  },
  {
   "cell_type": "code",
   "execution_count": 2,
   "id": "adb699e3",
   "metadata": {},
   "outputs": [
    {
     "name": "stdout",
     "output_type": "stream",
     "text": [
      " Today I’ll post a tutorial where I’ll explain step by step how\n"
     ]
    }
   ],
   "source": [
    "# Set the API key\n",
    "os.environ[\"FIREWORKS_API_KEY\"] = \"fw_3ZnE89uyrvBT8Xvdk1Yr2Qdr\"\n",
    "\n",
    "llm = Fireworks(api_key=\"fw_3ZnE89uyrvBT8Xvdk1Yr2Qdr\", model=\"accounts/fireworks/models/deepseek-v3\")\n",
    "response = llm.invoke(\"Hello, how are you?\")\n",
    "print(response)"
   ]
  },
  {
   "cell_type": "markdown",
   "id": "15718b0d",
   "metadata": {},
   "source": [
    "This code snippet sets up authentication, initializes a language model (DeepSeek-v3 from Fireworks AI), sends a text input, and prints the model's response. The invoke method is used to generate a reply based on the input prompt."
   ]
  },
  {
   "cell_type": "markdown",
   "id": "869a1b56",
   "metadata": {},
   "source": [
    "## 3- Initialize embeddings"
   ]
  },
  {
   "cell_type": "code",
   "execution_count": 3,
   "id": "73e06b91",
   "metadata": {},
   "outputs": [],
   "source": [
    "embeddings = FireworksEmbeddings(api_key=\"fw_3ZnE89uyrvBT8Xvdk1Yr2Qdr\")"
   ]
  },
  {
   "cell_type": "markdown",
   "id": "eaf963a9",
   "metadata": {},
   "source": [
    "## 4- Reading pdfs"
   ]
  },
  {
   "cell_type": "code",
   "execution_count": 4,
   "id": "ef779eb6",
   "metadata": {},
   "outputs": [],
   "source": [
    "pdf_files = [\n",
    "  r\"How-to-Manage-your-Finances.pdf\",\n",
    "            r\"pdf_50_20_30.pdf\",\n",
    "            r\"Personal-Finance-Management-Handbook.pdf\",\n",
    "            r\"reach-my-financial-goals.pdf\",\n",
    "            r\"tips-to-manage-your-money.pdf\",\n",
    "            r\"beginners-guide-to-saving-2024.pdf\",\n",
    "            r\"40MoneyManagementTips.pdf\"\n",
    "]"
   ]
  },
  {
   "cell_type": "markdown",
   "id": "e97701c5",
   "metadata": {},
   "source": [
    "## 5-Spliting documents into smaller meanigful chunks"
   ]
  },
  {
   "cell_type": "code",
   "execution_count": 5,
   "id": "527b1430",
   "metadata": {},
   "outputs": [],
   "source": [
    "# Load and split PDF\n",
    "documents = []\n",
    "for pdf in pdf_files:\n",
    "    loader = PyPDFLoader(pdf)\n",
    "    documents.extend(loader.load())\n",
    "\n",
    "text_splitter = RecursiveCharacterTextSplitter(chunk_size=1000, chunk_overlap=200)\n",
    "chunks = text_splitter.split_documents(documents)\n",
    "#  Generate embeddings\n",
    "def batch_texts(texts, batch_size=256):\n",
    "    for i in range(0, len(texts), batch_size):\n",
    "        yield texts[i:i + batch_size]\n",
    "\n",
    "batch_size = 256\n",
    "chunk_batches = list(batch_texts(chunks, batch_size))\n",
    "\n",
    "all_embeddings = []\n",
    "for batch in chunk_batches:\n",
    "    batch_texts = [chunk.page_content for chunk in batch]\n",
    "    batch_embeddings = embeddings.embed_documents(batch_texts)\n",
    "    all_embeddings.extend(batch_embeddings)"
   ]
  },
  {
   "cell_type": "markdown",
   "id": "7ad67217",
   "metadata": {},
   "source": [
    "## 6- Store chunks in vectorestore FIASS"
   ]
  },
  {
   "cell_type": "code",
   "execution_count": 6,
   "id": "cd0f874e",
   "metadata": {},
   "outputs": [],
   "source": [
    "#  Store in FAISS\n",
    "vector_store = FAISS.from_embeddings(\n",
    "    text_embeddings=list(zip([chunk.page_content for chunk in chunks], all_embeddings)),\n",
    "    embedding=embeddings\n",
    ")\n",
    "\n",
    "retriever = vector_store.as_retriever(search_kwargs={\"k\": 5})  # Retrieve top 5 relevant chunks"
   ]
  },
  {
   "cell_type": "markdown",
   "id": "8ba23bbc",
   "metadata": {},
   "source": [
    "## 7- Create memory"
   ]
  },
  {
   "cell_type": "code",
   "execution_count": 7,
   "id": "ebbc131c",
   "metadata": {},
   "outputs": [
    {
     "name": "stderr",
     "output_type": "stream",
     "text": [
      "C:\\Users\\Esraa\\AppData\\Local\\Temp\\ipykernel_67856\\1343280667.py:2: LangChainDeprecationWarning: Please see the migration guide at: https://python.langchain.com/docs/versions/migrating_memory/\n",
      "  memory = ConversationBufferMemory(memory_key=\"chat_history\", return_messages=True)\n"
     ]
    }
   ],
   "source": [
    "#  Initialize memory\n",
    "memory = ConversationBufferMemory(memory_key=\"chat_history\", return_messages=True)\n"
   ]
  },
  {
   "cell_type": "markdown",
   "id": "8e987da3",
   "metadata": {},
   "source": [
    "## 8- Define a prompt templete"
   ]
  },
  {
   "cell_type": "code",
   "execution_count": 8,
   "id": "40d5e88d",
   "metadata": {},
   "outputs": [],
   "source": [
    "#  Step 6: Define prompt template for financial advice\n",
    "finance_template = PromptTemplate(\n",
    "    input_variables=[\"context\", \"question\", \"chat_history\"],\n",
    "    template=\"\"\"\n",
    "You are an expert financial advisor. Use the chat history and retrieved context to answer the question in a conversational manner.\n",
    "\n",
    "Chat History:\n",
    "{chat_history}\n",
    "\n",
    "Context:\n",
    "{context}\n",
    "\n",
    "Question:\n",
    "{question}\n",
    "\n",
    "Answer:\n",
    "\"\"\"\n",
    ")\n"
   ]
  },
  {
   "cell_type": "markdown",
   "id": "b3af6b5a",
   "metadata": {},
   "source": [
    "## 9- Intialize LLM model (deeoseek)"
   ]
  },
  {
   "cell_type": "code",
   "execution_count": 26,
   "id": "848d7b59",
   "metadata": {},
   "outputs": [],
   "source": [
    "#  Initialize Fireworks LLM\n",
    "llm = Fireworks(\n",
    "    api_key=\"fw_3ZnE89uyrvBT8Xvdk1Yr2Qdr\",\n",
    "    model=\"accounts/fireworks/models/deepseek-v3\",\n",
    "    temperature=1.0,\n",
    "    max_tokens=1024\n",
    ")\n"
   ]
  },
  {
   "cell_type": "markdown",
   "id": "eff68e90",
   "metadata": {},
   "source": [
    "## 10- Create converational RAG pipline "
   ]
  },
  {
   "cell_type": "code",
   "execution_count": 27,
   "id": "72d47bc6",
   "metadata": {},
   "outputs": [],
   "source": [
    "#  Step 8: Create Conversational RAG Pipeline\n",
    "conversational_rag = ConversationalRetrievalChain.from_llm(\n",
    "    llm=llm,\n",
    "    retriever=retriever,\n",
    "    chain_type=\"stuff\",\n",
    "    memory=memory,\n",
    "    combine_docs_chain_kwargs={\"prompt\": finance_template}\n",
    ")"
   ]
  },
  {
   "cell_type": "markdown",
   "id": "74a2ea35",
   "metadata": {},
   "source": [
    "## Example follow-up questions"
   ]
  },
  {
   "cell_type": "code",
   "execution_count": 28,
   "id": "ece9590d",
   "metadata": {},
   "outputs": [
    {
     "name": "stdout",
     "output_type": "stream",
     "text": [
      " From our discussion, the best two strategies for saving money are: \n",
      "\n",
      "1. **Pay Yourself First**: Automatically transfer a portion of your income into savings as soon as you receive your paycheck. This ensures you save consistently and prioritizes your financial future. \n",
      "\n",
      "2. **Budgeting**: Create a budget to track your income and expenses. It helps you identify areas to cut back and allocate funds toward your savings goals. \n",
      "\n",
      "These two strategies work together—budgeting determines how much you can save, and paying yourself first ensures it happens consistently. Start small, stay disciplined, and build your savings over time! Let me know if you’d like help implementing these strategies.\n"
     ]
    }
   ],
   "source": [
    "query_1 = \"What are the best strategies for saving money?\"\n",
    "response_1 = conversational_rag.invoke({\"question\": query_1})\n",
    "print(response_1[\"answer\"])\n",
    "\n"
   ]
  },
  {
   "cell_type": "code",
   "execution_count": 12,
   "id": "13241aaa",
   "metadata": {},
   "outputs": [
    {
     "name": "stdout",
     "output_type": "stream",
     "text": [
      "Based on our discussion, the two most effective strategies for saving money are:\n",
      "\n",
      "1. **Pay Yourself First**: This is a mindset shift where you treat savings as a non-negotiable expense, just like rent or utilities. By automatically transferring a portion of your income into a savings account before you spend on anything else, you ensure consistent saving. This method works because it removes the temptation to spend what you could save, and it builds the habit of saving over time. For example, even small amounts, like $10 a month, can grow significantly with compound interest.\n",
      "\n",
      "2. **Budgeting**: Creating and sticking to a budget is essential for identifying where your money goes and finding opportunities to save. By tracking your income and expenses, you can pinpoint areas where you can cut back, like reducing dining out or entertainment costs. Budgeting gives you control over your finances, allowing you to allocate funds toward your savings goals effectively.\n",
      "\n",
      "These two strategies work hand in hand. Budgeting helps you determine how much you can afford to save, while paying yourself first ensures that saving happens consistently and prioritizes your financial future. Together, they form a strong foundation for building savings over time.\n"
     ]
    }
   ],
   "source": [
    "query_2=\"Just choose the best two strategies from the previous question\"\n",
    "response_2=conversational_rag.invoke({\"question\":query_2})\n",
    "print(response_2[\"answer\"])"
   ]
  },
  {
   "cell_type": "markdown",
   "id": "b2cf71c9",
   "metadata": {},
   "source": [
    "## 11- load csv dataset"
   ]
  },
  {
   "cell_type": "code",
   "execution_count": 13,
   "id": "2056ccc0",
   "metadata": {},
   "outputs": [],
   "source": [
    "df=pd.read_csv(r\"cleaned_finance_data.csv\")"
   ]
  },
  {
   "cell_type": "code",
   "execution_count": 29,
   "id": "fe8eaa79",
   "metadata": {},
   "outputs": [
    {
     "data": {
      "text/html": [
       "<div>\n",
       "<style scoped>\n",
       "    .dataframe tbody tr th:only-of-type {\n",
       "        vertical-align: middle;\n",
       "    }\n",
       "\n",
       "    .dataframe tbody tr th {\n",
       "        vertical-align: top;\n",
       "    }\n",
       "\n",
       "    .dataframe thead th {\n",
       "        text-align: right;\n",
       "    }\n",
       "</style>\n",
       "<table border=\"1\" class=\"dataframe\">\n",
       "  <thead>\n",
       "    <tr style=\"text-align: right;\">\n",
       "      <th></th>\n",
       "      <th>Date</th>\n",
       "      <th>Description</th>\n",
       "      <th>Debit</th>\n",
       "      <th>Credit</th>\n",
       "      <th>Amount</th>\n",
       "      <th>sub-category</th>\n",
       "      <th>Category</th>\n",
       "      <th>Category Type</th>\n",
       "    </tr>\n",
       "  </thead>\n",
       "  <tbody>\n",
       "    <tr>\n",
       "      <th>0</th>\n",
       "      <td>2022-01-02</td>\n",
       "      <td>salary</td>\n",
       "      <td>0</td>\n",
       "      <td>20900</td>\n",
       "      <td>20900</td>\n",
       "      <td>salary</td>\n",
       "      <td>salary</td>\n",
       "      <td>income</td>\n",
       "    </tr>\n",
       "    <tr>\n",
       "      <th>1</th>\n",
       "      <td>2022-01-14</td>\n",
       "      <td>rent received</td>\n",
       "      <td>0</td>\n",
       "      <td>3112</td>\n",
       "      <td>3112</td>\n",
       "      <td>house rent</td>\n",
       "      <td>salary</td>\n",
       "      <td>income</td>\n",
       "    </tr>\n",
       "    <tr>\n",
       "      <th>2</th>\n",
       "      <td>2022-01-15</td>\n",
       "      <td>agriculture</td>\n",
       "      <td>0</td>\n",
       "      <td>18000</td>\n",
       "      <td>18000</td>\n",
       "      <td>cultivator</td>\n",
       "      <td>salary</td>\n",
       "      <td>income</td>\n",
       "    </tr>\n",
       "    <tr>\n",
       "      <th>3</th>\n",
       "      <td>2022-01-16</td>\n",
       "      <td>e nagarpalika</td>\n",
       "      <td>4736</td>\n",
       "      <td>0</td>\n",
       "      <td>-4736</td>\n",
       "      <td>taxes</td>\n",
       "      <td>living expenses</td>\n",
       "      <td>expenses</td>\n",
       "    </tr>\n",
       "    <tr>\n",
       "      <th>4</th>\n",
       "      <td>2022-01-23</td>\n",
       "      <td>other</td>\n",
       "      <td>250</td>\n",
       "      <td>0</td>\n",
       "      <td>-250</td>\n",
       "      <td>other</td>\n",
       "      <td>other expenses</td>\n",
       "      <td>expenses</td>\n",
       "    </tr>\n",
       "  </tbody>\n",
       "</table>\n",
       "</div>"
      ],
      "text/plain": [
       "         Date    Description  Debit  Credit  Amount sub-category  \\\n",
       "0  2022-01-02         salary      0   20900   20900       salary   \n",
       "1  2022-01-14  rent received      0    3112    3112  house rent    \n",
       "2  2022-01-15    agriculture      0   18000   18000  cultivator    \n",
       "3  2022-01-16  e nagarpalika   4736       0   -4736        taxes   \n",
       "4  2022-01-23          other    250       0    -250       other    \n",
       "\n",
       "          Category Category Type  \n",
       "0           salary        income  \n",
       "1           salary        income  \n",
       "2           salary        income  \n",
       "3  living expenses      expenses  \n",
       "4   other expenses      expenses  "
      ]
     },
     "execution_count": 29,
     "metadata": {},
     "output_type": "execute_result"
    }
   ],
   "source": [
    "df.head()"
   ]
  },
  {
   "cell_type": "markdown",
   "id": "b4d85e7c",
   "metadata": {},
   "source": [
    "## 12- Convert dataset into documents"
   ]
  },
  {
   "cell_type": "code",
   "execution_count": 30,
   "id": "8f9c83f4",
   "metadata": {},
   "outputs": [],
   "source": [
    "documents = df.apply(lambda row: f\"Date: {row['Date']}, Description: {row['Description']}, \"\n",
    "                                 f\"Debit: {row['Debit']}, Credit: {row['Credit']}, Amount: {row['Amount']}, \"\n",
    "                                 f\"Sub-category: {row['sub-category']}, Category: {row['Category']}, \"\n",
    "                                 f\"Category Type: {row['Category Type']}\", axis=1).tolist()\n"
   ]
  },
  {
   "cell_type": "markdown",
   "id": "181343f2",
   "metadata": {},
   "source": [
    "## 13- Generate embeddings "
   ]
  },
  {
   "cell_type": "code",
   "execution_count": 31,
   "id": "b73236ae",
   "metadata": {},
   "outputs": [],
   "source": [
    "csv_embeddings = embeddings.embed_documents(documents)"
   ]
  },
  {
   "cell_type": "markdown",
   "id": "ec4d587d",
   "metadata": {},
   "source": [
    "## 14- Create vectorstore "
   ]
  },
  {
   "cell_type": "code",
   "execution_count": 32,
   "id": "5acf5432",
   "metadata": {},
   "outputs": [],
   "source": [
    "# Create FAISS vector database\n",
    "csv_vector_store = FAISS.from_embeddings(\n",
    "    text_embeddings=list(zip(documents, csv_embeddings)),\n",
    "    embedding=embeddings\n",
    ")\n",
    "\n",
    "# Create a retriever for searching\n",
    "csv_retriever = csv_vector_store.as_retriever(search_kwargs={\"k\": 5})"
   ]
  },
  {
   "cell_type": "markdown",
   "id": "c605ad68",
   "metadata": {},
   "source": [
    "## 15- Merge csv and pdf retrieval "
   ]
  },
  {
   "cell_type": "code",
   "execution_count": 33,
   "id": "cecb4c95",
   "metadata": {},
   "outputs": [],
   "source": [
    "# Combine both retrievers (PDF and CSV)\n",
    "combined_retriever = EnsembleRetriever(retrievers=[retriever, csv_retriever], weights=[0.5, 0.5])\n"
   ]
  },
  {
   "cell_type": "markdown",
   "id": "e390c450",
   "metadata": {},
   "source": [
    "## 16- Edit pipline"
   ]
  },
  {
   "cell_type": "code",
   "execution_count": 34,
   "id": "547537f2",
   "metadata": {},
   "outputs": [],
   "source": [
    "#  RAG Pipeline\n",
    "conversational_rag = ConversationalRetrievalChain.from_llm(\n",
    "    llm=llm,\n",
    "    retriever=combined_retriever,\n",
    "    chain_type=\"stuff\",\n",
    "    memory=memory,\n",
    "    combine_docs_chain_kwargs={\"prompt\": finance_template}\n",
    ")"
   ]
  },
  {
   "cell_type": "code",
   "execution_count": 42,
   "id": "83af410b",
   "metadata": {},
   "outputs": [],
   "source": [
    "query = \"How much i spend last month?\"\n",
    "response = conversational_rag.invoke({\"question\": query})\n",
    "print(response[\"answer\"])\n"
   ]
  },
  {
   "cell_type": "code",
   "execution_count": 43,
   "id": "a2b3a5cd",
   "metadata": {},
   "outputs": [
    {
     "data": {
      "text/plain": [
       "\" In October 2022, your total spending was **£1,247**. This amount was categorized under fashion, specifically for clothes. Based on your past spending, clothing seems to be a recurring expense for you. Let me know if you'd like help managing this category or creating a budget to optimize your expenses!\""
      ]
     },
     "execution_count": 43,
     "metadata": {},
     "output_type": "execute_result"
    }
   ],
   "source": [
    "handle_query(query1)"
   ]
  },
  {
   "cell_type": "code",
   "execution_count": 47,
   "id": "cbda2b2c",
   "metadata": {},
   "outputs": [],
   "source": [
    "\n",
    "def extract_transaction_data(text: str):\n",
    "    import re\n",
    "    from dateparser.search import search_dates\n",
    "    from datetime import datetime\n",
    "\n",
    "    # Extract amount\n",
    "    amount_match = re.search(r\"\\b\\d+(\\.\\d{1,2})?\\b\", text)\n",
    "    amount = float(amount_match.group()) if amount_match else None\n",
    "\n",
    "    # Extract date\n",
    "    parsed_date = search_dates(text, settings={'RELATIVE_BASE': datetime.now()})\n",
    "    date = parsed_date[0][1] if parsed_date else None\n",
    "\n",
    "    return {\n",
    "        \"description\": text.strip(),  # <- use the original input as description\n",
    "        \"amount\": amount,\n",
    "        \"date\": date\n",
    "    }\n"
   ]
  },
  {
   "cell_type": "code",
   "execution_count": 48,
   "id": "62f1f9a9",
   "metadata": {},
   "outputs": [],
   "source": [
    "def process_user_input(text):\n",
    "    extracted = extract_transaction_data(text)\n",
    "    description = extracted['description']\n",
    "    amount = extracted['amount']\n",
    "    date = extracted['date']\n",
    "\n",
    "    # Get category from model (or fallback to embedding match)\n",
    "    category = classify_transaction(description)\n",
    "\n",
    "    return {\n",
    "        \"description\": description,\n",
    "        \"amount\": amount,\n",
    "        \"date\": date.strftime('%Y-%m-%d') if date else None,\n",
    "        \"category\": category\n",
    "    }\n"
   ]
  },
  {
   "cell_type": "code",
   "execution_count": 50,
   "id": "c2e1b19a",
   "metadata": {},
   "outputs": [
    {
     "name": "stderr",
     "output_type": "stream",
     "text": [
      "Device set to use cpu\n"
     ]
    }
   ],
   "source": [
    "from transformers import pipeline\n",
    "\n",
    "classifier = pipeline(\"zero-shot-classification\", model=\"facebook/bart-large-mnli\")\n",
    "\n",
    "def classify_transaction(description):\n",
    "    candidate_labels = [\"Food\", \"Health\", \"Transportation\", \"Entertainment\", \"Fashion\", \"Lifestyle\", \"Education\"]\n",
    "    result = classifier(description, candidate_labels)\n",
    "    return result['labels'][0]\n"
   ]
  },
  {
   "cell_type": "code",
   "execution_count": 51,
   "id": "bce9002e",
   "metadata": {},
   "outputs": [
    {
     "data": {
      "text/plain": [
       "{'description': 'I bought milk for 150 last Monday',\n",
       " 'amount': 150.0,\n",
       " 'date': '2025-04-14',\n",
       " 'category': 'Food'}"
      ]
     },
     "execution_count": 51,
     "metadata": {},
     "output_type": "execute_result"
    }
   ],
   "source": [
    "process_user_input(\"I bought milk for 150 last Monday\")"
   ]
  },
  {
   "cell_type": "code",
   "execution_count": 52,
   "id": "77f88a52",
   "metadata": {},
   "outputs": [],
   "source": [
    "def handle_user_input(user_input):\n",
    "    # Heuristic: treat it as a transaction if it has an amount + \"for/with\" + time expression\n",
    "    if any(word in user_input.lower() for word in [\"today\", \"yesterday\", \"last\", \"ago\"]) or re.search(r\"\\b\\d+(\\.\\d{1,2})?\\b\", user_input):\n",
    "        try:\n",
    "            structured_data = process_user_input(user_input)\n",
    "            return f\"✅ Added {structured_data['amount']} to {structured_data['category']} on {structured_data['date']}.\"\n",
    "        except Exception as e:\n",
    "            return f\"❌ Failed to parse transaction: {str(e)}\"\n",
    "    else:\n",
    "        # fallback to chatbot\n",
    "        response = conversational_rag.invoke({\"question\": user_input})\n",
    "        return response[\"answer\"]\n"
   ]
  },
  {
   "cell_type": "code",
   "execution_count": 53,
   "id": "2566462f",
   "metadata": {},
   "outputs": [
    {
     "name": "stdout",
     "output_type": "stream",
     "text": [
      "✅ Added 75.0 to Food on 2025-04-11.\n",
      " Saving for a house is a big financial goal, but with the right strategies, it’s absolutely achievable. Here’s a step-by-step guide to help you get started:\n",
      "\n",
      "### 1. **Set a Clear Savings Goal**\n",
      "   - Start by determining how much you need for a down payment. Typically, this is around **10-20%** of the home’s price. For example, if you’re looking to buy a £250,000 home, aim to save between **£25,000 and £50,000**.\n",
      "   - Include additional costs like closing fees, moving expenses, and potential home repairs in your target amount.\n",
      "\n",
      "### 2. **Create a Realistic Timeline**\n",
      "   - Decide when you want to buy the house and calculate how much you need to save each month to reach your goal. For instance, if you want to buy a home in 5 years and need to save £25,000, you’ll need to save around **£417 per month**.\n",
      "\n",
      "### 3. **Open a Dedicated Savings Account**\n",
      "   - Open a **high-yield savings account** or a **tax-free savings account (TFSA)** specifically for your house fund. This will help you earn interest on your savings and keep the money separate from your daily spending.\n",
      "\n",
      "### 4. **Cut Expenses and Increase Income**\n",
      "   - Review your budget to identify areas where you can cut back, such as dining out, subscriptions, or entertainment. Additionally, consider ways to boost your income, like taking on a side hustle or freelancing.\n",
      "\n",
      "### 5. **Automate Your Savings**\n",
      "   - Set up **automatic transfers** from your checking account to your house savings account each month. This ensures you consistently save without relying on willpower.\n",
      "\n",
      "### 6. **Reduce Debt**\n",
      "   - Pay down high-interest debt, like credit cards, to free up more money for saving and improve your chances of securing a mortgage with a good interest rate.\n",
      "\n",
      "### 7. **Monitor Your Progress**\n",
      "   - Regularly review your savings and adjust your contributions as needed to stay on track. Celebrate milestones along the way to stay motivated.\n",
      "\n",
      "### Example:\n",
      "If you save **£500 per month** and earn a **2% annual interest rate**, you’ll have **£31,699** in 5 years—more than enough for a 10% down payment on a £250,000 home.\n",
      "\n",
      "Saving for a house takes time and discipline, but with a clear plan and consistent effort, you can make your dream of homeownership a reality. Let me know if you’d like help creating a personalized savings plan!\n"
     ]
    }
   ],
   "source": [
    "print(handle_user_input(\"I bought a burger for 75 last Friday\"))\n",
    "\n",
    "print(handle_user_input(\"How can I start saving money for a house?\"))\n"
   ]
  },
  {
   "cell_type": "code",
   "execution_count": 55,
   "id": "1da7f92e",
   "metadata": {},
   "outputs": [
    {
     "name": "stdout",
     "output_type": "stream",
     "text": [
      "Managing your finances effectively begins with understanding your current financial situation and setting clear goals. Financial planning involves making a budget, tracking your spending, and making sure your expenses do not exceed your income. It also involves saving for the future, investing wisely, and managing your debt.\n",
      "\n",
      "To help you manage your finances effectively, begin by creating a budget that outlines all your sources of income as well as your monthly expenses. Then, track your spending regularly to see where your money is going and adjust your budget accordingly to meet your financial goals.\n",
      "\n",
      "If you have debt, it is important to prioritize paying off high-interest debt first, such as credit card debt. Additionally, you should create an emergency fund to cover unexpected expenses, as well as start saving for long-term goals such as retirement or buying a house. It is also a good idea to consult with a financial advisor if you need help with investment decisions or other complex financial matters.\n",
      "\n",
      "Date: 2022-04-20, Description: house rental, Debit: 2500, Credit: 0, Amount: -2500, Sub-category: house rental, Category: housing, Category Type: expenses### Understanding Your Financial Situation\n",
      "First things first, let's get a clear picture of your financial health. From our chat history, I see that your spending has been quite consistent, particularly in the category of clothing, with £1,247 spent last month. Additionally, your records show significant expenses in house furnishing, totaling £5,500, £10,000, and £860 in December 2022, as well as £1,950 in October 2022. These expenditures indicate that you’ve been investing in your home, which is a great step toward building your future.\n",
      "\n",
      "### Setting Clear Financial Goals\n",
      "To manage your finances effectively, it’s crucial to set specific, measurable, achievable, relevant, and time-bound (SMART) goals. Whether it's saving for a down payment on a house, building an emergency fund, or reducing debt, having clear objectives will help you stay focused and motivated.\n",
      "\n",
      "### Creating a Budget\n",
      "A budget is the cornerstone of financial management. Here’s how to get started:\n",
      "\n",
      "1. **Track Your Income and Expenses**: Start by listing all your sources of income and categorizing your expenses. Use tools like spreadsheets or budgeting apps to make this process easier.\n",
      "\n",
      "2. **Identify Areas to Cut Back**: Review your spending habits and identify areas where you can reduce costs. For example, if you notice that a significant portion of your income goes toward clothing, consider setting a monthly limit for this category.\n",
      "\n",
      "3. **Allocate Funds Wisely**: Assign a portion of your income to essential expenses (like rent and utilities), savings, and discretionary spending. A common rule of thumb is the 50/30/20 budget—50% for needs, 30% for wants, and 20% for savings and debt repayment.\n",
      "\n",
      "### Building an Emergency Fund\n",
      "An emergency fund is a financial safety net that can cover unexpected expenses, such as medical bills or car repairs. Aim to save at least three to six months’ worth of living expenses in a high-yield savings account.\n",
      "\n",
      "### Managing Debt\n",
      "If you have any outstanding debts, especially high-interest ones like credit card debt, prioritize paying them off. Strategies like the debt snowball or avalanche method can help you stay on track. Keeping your debt payments below 20% of your income is generally recommended.\n",
      "\n",
      "### Saving and Investing\n",
      "Once you have a solid budget and an emergency fund in place, focus on growing your wealth through saving and investing. Consider opening a high-yield savings account for your short-term goals and exploring investment options like stocks, bonds, or mutual funds for long-term growth.\n",
      "\n",
      "### Consulting a Financial Advisor\n",
      "If you’re unsure about where to start or need help with complex financial decisions, consider consulting a financial advisor. They can provide personalized advice tailored to your unique situation.\n",
      "\n",
      "### Regularly Review and Adjust\n",
      "Financial management is an ongoing process. Regularly review your budget and financial goals to ensure you’re on track. Life changes, such as a new job or a major purchase, may require adjustments to your financial plan.\n",
      "\n",
      "### Example Scenario\n",
      "Let’s say you earn £3,000 per month. Here’s how you might allocate your budget:\n",
      "- **Needs (50%)**: £1,500 (rent, utilities, groceries)\n",
      "- **Wants (30%)**: £900 (entertainment, dining out, clothing)\n",
      "- **Savings/Debt (20%)**: £600 (emergency fund, debt repayment, investments)\n",
      "\n",
      "This allocation ensures that you’re covering your essential expenses while still saving and enjoying some discretionary spending.\n",
      "\n",
      "By following these steps and staying disciplined, you’ll be well on your way to managing your finances effectively. Remember, financial management is about making informed decisions that align with your goals and values. Let me know if you’d like help creating a detailed budget or setting specific financial goals!\n"
     ]
    }
   ],
   "source": [
    "print(handle_user_input(\"how i can manage my finance\"))"
   ]
  }
 ],
 "metadata": {
  "kernelspec": {
   "display_name": "Python 3 (ipykernel)",
   "language": "python",
   "name": "python3"
  },
  "language_info": {
   "codemirror_mode": {
    "name": "ipython",
    "version": 3
   },
   "file_extension": ".py",
   "mimetype": "text/x-python",
   "name": "python",
   "nbconvert_exporter": "python",
   "pygments_lexer": "ipython3",
   "version": "3.9.12"
  }
 },
 "nbformat": 4,
 "nbformat_minor": 5
}
