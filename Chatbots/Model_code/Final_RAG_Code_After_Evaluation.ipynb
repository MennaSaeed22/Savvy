{
 "cells": [
  {
   "cell_type": "markdown",
   "id": "934c50c1",
   "metadata": {},
   "source": [
    "This notebook builds a Retrieval-Augmented Generation (RAG) chatbot that retrieves relevant information from PDF documents and generates responses using a Language Model (LLM). The chatbot processes PDFs, extracts text, embeds it in a vector database, and performs semantic search for accurate answers."
   ]
  },
  {
   "cell_type": "markdown",
   "id": "4f909cf5",
   "metadata": {},
   "source": [
    "## 1- Import Libraries "
   ]
  },
  {
   "cell_type": "code",
   "execution_count": 1,
   "id": "679bf93f",
   "metadata": {},
   "outputs": [],
   "source": [
    "import os\n",
    "from langchain_fireworks import ChatFireworks\n",
    "from langchain_fireworks import Fireworks\n",
    "from langchain_fireworks import FireworksEmbeddings\n",
    "from langchain.document_loaders import PyPDFLoader\n",
    "from langchain.text_splitter import RecursiveCharacterTextSplitter\n",
    "from langchain.vectorstores import FAISS\n",
    "from langchain.chains import RetrievalQA\n",
    "from langchain.vectorstores import Chroma\n",
    "from langchain.chains import ConversationalRetrievalChain\n",
    "from langchain.memory import ConversationBufferMemory\n",
    "from langchain.prompts import PromptTemplate\n",
    "import warnings\n",
    "import pandas as pd\n",
    "import numpy as np\n",
    "from datetime import datetime, timedelta\n",
    "from langchain.retrievers import EnsembleRetriever\n",
    "import re\n",
    "from dateparser import parse\n",
    "from dateparser.search import search_dates\n",
    "from datetime import datetime\n",
    "from supabase import create_client, Client\n",
    "from dotenv import load_dotenv\n",
    "from langchain.schema import Document\n"
   ]
  },
  {
   "cell_type": "markdown",
   "id": "5b7abbaf",
   "metadata": {},
   "source": [
    "## 2- Set API key "
   ]
  },
  {
   "cell_type": "code",
   "execution_count": 2,
   "id": "1cdff612",
   "metadata": {},
   "outputs": [],
   "source": [
    "# Load the .env file\n",
    "load_dotenv()\n",
    "\n",
    "# Access the variables\n",
    "api_key = os.getenv(\"API_KEY\")\n"
   ]
  },
  {
   "cell_type": "markdown",
   "id": "ff5c6e8f",
   "metadata": {},
   "source": [
    "## 3- Call LLM "
   ]
  },
  {
   "cell_type": "code",
   "execution_count": 3,
   "id": "b38b8309",
   "metadata": {},
   "outputs": [
    {
     "name": "stdout",
     "output_type": "stream",
     "text": [
      " Welcome to our blog \"Your Health Our Priority\". Here, you will find important\n"
     ]
    }
   ],
   "source": [
    "llm = Fireworks(api_key=api_key, model=\"accounts/fireworks/models/deepseek-v3\", temperature=1.0)\n",
    "response = llm.invoke(\"Hello, how are you?\")\n",
    "print(response)"
   ]
  },
  {
   "cell_type": "markdown",
   "id": "53e07670",
   "metadata": {},
   "source": [
    "## 4-Initialize Embedding"
   ]
  },
  {
   "cell_type": "code",
   "execution_count": 4,
   "id": "9985680c",
   "metadata": {},
   "outputs": [],
   "source": [
    "embeddings = FireworksEmbeddings(api_key=api_key)"
   ]
  },
  {
   "cell_type": "markdown",
   "id": "49128506",
   "metadata": {},
   "source": [
    "## 5- Reading pdfs"
   ]
  },
  {
   "cell_type": "code",
   "execution_count": 5,
   "id": "92101b5e",
   "metadata": {},
   "outputs": [],
   "source": [
    "pdf_files = [\n",
    "  r\"How-to-Manage-your-Finances.pdf\",\n",
    "            r\"pdf_50_20_30.pdf\",\n",
    "            r\"Personal-Finance-Management-Handbook.pdf\",\n",
    "            r\"reach-my-financial-goals.pdf\",\n",
    "            r\"tips-to-manage-your-money.pdf\",\n",
    "            r\"beginners-guide-to-saving-2024.pdf\",\n",
    "            r\"40MoneyManagementTips.pdf\",\n",
    "            r\"1_55_ways_to_save.pdf\"\n",
    "]"
   ]
  },
  {
   "cell_type": "markdown",
   "id": "46f9f1d0",
   "metadata": {},
   "source": [
    "## 6-Spliting documents into smaller meanigful chunks"
   ]
  },
  {
   "cell_type": "code",
   "execution_count": 6,
   "id": "1a8547bd",
   "metadata": {},
   "outputs": [],
   "source": [
    "# Load and split PDF\n",
    "documents = []\n",
    "for pdf in pdf_files:\n",
    "    loader = PyPDFLoader(pdf)\n",
    "    documents.extend(loader.load())\n",
    "\n",
    "text_splitter = RecursiveCharacterTextSplitter(chunk_size=1000, chunk_overlap=200)\n",
    "chunks = text_splitter.split_documents(documents)\n",
    "#  Generate embeddings\n",
    "def batch_texts(texts, batch_size=256):\n",
    "    for i in range(0, len(texts), batch_size):\n",
    "        yield texts[i:i + batch_size]\n",
    "\n",
    "batch_size = 256\n",
    "chunk_batches = list(batch_texts(chunks, batch_size))\n",
    "\n",
    "pdf_embeddings = []\n",
    "for batch in chunk_batches:\n",
    "    batch_texts = [chunk.page_content for chunk in batch]\n",
    "    batch_embeddings = embeddings.embed_documents(batch_texts)\n",
    "    pdf_embeddings.extend(batch_embeddings)"
   ]
  },
  {
   "cell_type": "markdown",
   "id": "fd22b29d",
   "metadata": {},
   "source": [
    "## 7- Store chunks in vectorestore FIASS\n"
   ]
  },
  {
   "cell_type": "code",
   "execution_count": 7,
   "id": "d43a4b15",
   "metadata": {},
   "outputs": [],
   "source": [
    "#  Store in FAISS\n",
    "vector_store = FAISS.from_embeddings(\n",
    "    text_embeddings=list(zip([chunk.page_content for chunk in chunks], pdf_embeddings)),\n",
    "    embedding=embeddings\n",
    ")\n",
    "\n",
    "pdf_retriever = vector_store.as_retriever(search_kwargs={\"k\": 5})  # Retrieve top 5 relevant chunks"
   ]
  },
  {
   "cell_type": "markdown",
   "id": "b5e47f0a",
   "metadata": {},
   "source": [
    "## 8- Create memory"
   ]
  },
  {
   "cell_type": "code",
   "execution_count": 8,
   "id": "52f3e263",
   "metadata": {},
   "outputs": [
    {
     "name": "stderr",
     "output_type": "stream",
     "text": [
      "C:\\Users\\Esraa\\AppData\\Local\\Temp\\ipykernel_24552\\1343280667.py:2: LangChainDeprecationWarning: Please see the migration guide at: https://python.langchain.com/docs/versions/migrating_memory/\n",
      "  memory = ConversationBufferMemory(memory_key=\"chat_history\", return_messages=True)\n"
     ]
    }
   ],
   "source": [
    "#  Initialize memory\n",
    "memory = ConversationBufferMemory(memory_key=\"chat_history\", return_messages=True)\n"
   ]
  },
  {
   "cell_type": "markdown",
   "id": "32cb9c6a",
   "metadata": {},
   "source": [
    "## 9- Define a prompt templete"
   ]
  },
  {
   "cell_type": "code",
   "execution_count": 9,
   "id": "3561688a",
   "metadata": {},
   "outputs": [],
   "source": [
    "#  Step : Define prompt template for financial advice\n",
    "finance_template = PromptTemplate(\n",
    "    input_variables=[\"context\", \"question\", \"chat_history\"],\n",
    "    template=\"\"\"\n",
    "You are an expert financial advisor. Use the chat history and retrieved context to answer the question in a conversational manner.\n",
    "\n",
    "Chat History:\n",
    "{chat_history}\n",
    "\n",
    "Context:\n",
    "{context}\n",
    "\n",
    "Question:\n",
    "{question}\n",
    "\n",
    "Answer:\n",
    "\"\"\"\n",
    ")\n"
   ]
  },
  {
   "cell_type": "code",
   "execution_count": 10,
   "id": "2f67b098",
   "metadata": {},
   "outputs": [],
   "source": [
    "#  Initialize Fireworks LLM\n",
    "llm = Fireworks(\n",
    "    api_key=api_key,\n",
    "    model=\"accounts/fireworks/models/deepseek-v3\",\n",
    "    temperature=1.0,\n",
    "    max_tokens=1024\n",
    ")\n"
   ]
  },
  {
   "cell_type": "markdown",
   "id": "a61a1bb0",
   "metadata": {},
   "source": [
    "## 10- Create converational RAG pipline "
   ]
  },
  {
   "cell_type": "code",
   "execution_count": 11,
   "id": "a9082139",
   "metadata": {},
   "outputs": [],
   "source": [
    "#  Step : Create Conversational RAG Pipeline\n",
    "conversational_rag = ConversationalRetrievalChain.from_llm(\n",
    "    llm=llm,\n",
    "    retriever=pdf_retriever,\n",
    "    chain_type=\"stuff\",\n",
    "    memory=memory,\n",
    "    combine_docs_chain_kwargs={\"prompt\": finance_template}\n",
    ")"
   ]
  },
  {
   "cell_type": "code",
   "execution_count": 27,
   "id": "37946f53",
   "metadata": {},
   "outputs": [
    {
     "name": "stdout",
     "output_type": "stream",
     "text": [
      "Great question! Saving money is a crucial part of financial well-being, and here are two of the best strategies to get started:\n",
      "\n",
      "1. **Create a Budget:**  \n",
      "   The foundation of saving is understanding your income and expenses. Start by tracking where your money goes each month. This will help you identify areas where you can cut back and allocate more toward savings. \n",
      "\n",
      "2. **Pay Yourself First:**  \n",
      "   Treat your savings like a non-negotiable expense. Set aside a portion of your income as soon as you get paid, before spending on anything else. Automating this process can make it easier and more consistent.\n",
      "\n",
      "These two strategies work hand-in-hand: budgeting helps you understand your financial situation and identify opportunities to save, while paying yourself first ensures that saving becomes a priority. Let me know if you'd like help creating a personalized savings plan!\n"
     ]
    }
   ],
   "source": [
    "query_1 = \"What are the best strategies for saving money?\"\n",
    "response_1 = conversational_rag.invoke({\"question\": query_1})\n",
    "print(response_1[\"answer\"])\n",
    "\n"
   ]
  },
  {
   "cell_type": "markdown",
   "id": "aef59c9e",
   "metadata": {},
   "source": [
    "## Example follow-up questions"
   ]
  },
  {
   "cell_type": "code",
   "execution_count": 26,
   "id": "c39911cd",
   "metadata": {},
   "outputs": [
    {
     "name": "stdout",
     "output_type": "stream",
     "text": [
      " Based on the advice provided and the context, the **two best strategies for saving money** are:\n",
      "\n",
      "1. **Budgeting:**  \n",
      "   Budgeting is the foundation of saving money. Before you can save effectively, you need to understand your income and expenses. This allows you to identify areas where you can cut back and allocate more toward savings. As the context mentions, \"You must budget before you can save, otherwise you won’t know what is affordable and your plan won’t be realistic.\" Tools and resources, like those from *Money Saving Expert*, can help you create a realistic and sustainable budget.\n",
      "\n",
      "2. **Paying Yourself First:**  \n",
      "   Treating your savings like a non-negotiable expense is another powerful strategy. As the context explains, \"One way to get into the habit of saving money is to 'pay yourself first.' That means putting money in your savings account before you spend it on other things.\" Automating this process, such as having your employer deduct money directly into a savings account, can make it easier and more consistent. Even small amounts, like saving $1 a day, can add up over time.\n",
      "\n",
      "These two strategies work together: budgeting helps you free up money to save, and paying yourself first ensures that saving becomes a priority. Let me know if you’d like help implementing these strategies!\n"
     ]
    }
   ],
   "source": [
    "query_1 = \"By using previous advice can you tell the best two ideas?\"\n",
    "response_1 = conversational_rag.invoke({\"question\": query_1})\n",
    "print(response_1[\"answer\"])\n",
    "\n"
   ]
  },
  {
   "cell_type": "markdown",
   "id": "674db5f9",
   "metadata": {},
   "source": [
    "## 12-Fetch database"
   ]
  },
  {
   "cell_type": "code",
   "execution_count": 14,
   "id": "8705865a",
   "metadata": {
    "scrolled": true
   },
   "outputs": [
    {
     "name": "stdout",
     "output_type": "stream",
     "text": [
      "[{'transaction_id': '3683c4fc-018d-42ee-803b-69845dd1f0cd', 'user_id': '027051a8-3887-4150-9cfb-a51efb9146b5', 'income': 1000, 'expenses': 0, 'data': 'Monthly salary deposit', 'category_id': '8867173b-22a3-408e-a2b8-9ee2f0bc70b2', 'description': 'August salary', 'created_at': '2025-04-21T10:51:09.833846'}]\n"
     ]
    }
   ],
   "source": [
    "# Load .env\n",
    "load_dotenv()\n",
    "url = os.getenv(\"SUPABASE_URL\")\n",
    "key = os.getenv(\"SUPABASE_KEY\")\n",
    "\n",
    "# Connect to Supabase\n",
    "supabase: Client = create_client(url, key)\n",
    "\n",
    "# Fetch data from the \"Transaction\" table\n",
    "response = supabase.table(\"transactions\").select(\"*\").execute()\n",
    "data = response.data\n",
    "print(data)"
   ]
  },
  {
   "cell_type": "markdown",
   "id": "2851cb2a",
   "metadata": {},
   "source": [
    "## 13- Convert transaction table into text "
   ]
  },
  {
   "cell_type": "code",
   "execution_count": 15,
   "id": "5a86a6f9",
   "metadata": {},
   "outputs": [],
   "source": [
    "documents = [\n",
    "    Document(\n",
    "        page_content=(\n",
    "            f\"Transaction on {tx['created_at']}:\\n\"\n",
    "            f\"- Description: {tx['description']}\\n\"\n",
    "            f\"- Notes: {tx['data']}\\n\"\n",
    "            f\"- Income: {tx['income']} EGP\\n\"\n",
    "            f\"- Expenses: {tx['expenses']} EGP\\n\"\n",
    "            f\"- Category ID: {tx['category_id']}\"\n",
    "        ),\n",
    "        metadata={\"source\": \"transactions\", \"transaction_id\": tx['transaction_id']}\n",
    "    )\n",
    "    for tx in data\n",
    "]\n",
    "\n"
   ]
  },
  {
   "cell_type": "code",
   "execution_count": 16,
   "id": "18f8ab25",
   "metadata": {
    "scrolled": false
   },
   "outputs": [
    {
     "name": "stdout",
     "output_type": "stream",
     "text": [
      "Transaction on 2025-04-21T10:51:09.833846:\n",
      "- Description: August salary\n",
      "- Notes: Monthly salary deposit\n",
      "- Income: 1000 EGP\n",
      "- Expenses: 0 EGP\n",
      "- Category ID: 8867173b-22a3-408e-a2b8-9ee2f0bc70b2\n"
     ]
    }
   ],
   "source": [
    "print(documents[0].page_content)\n"
   ]
  },
  {
   "cell_type": "code",
   "execution_count": 17,
   "id": "e5b2d501",
   "metadata": {},
   "outputs": [
    {
     "name": "stdout",
     "output_type": "stream",
     "text": [
      "{'source': 'transactions', 'transaction_id': '3683c4fc-018d-42ee-803b-69845dd1f0cd'}\n"
     ]
    }
   ],
   "source": [
    "print(documents[0].metadata)\n"
   ]
  },
  {
   "cell_type": "markdown",
   "id": "28d8364c",
   "metadata": {},
   "source": [
    "## 14- Create embeddings for database data"
   ]
  },
  {
   "cell_type": "code",
   "execution_count": 18,
   "id": "5749add4",
   "metadata": {},
   "outputs": [],
   "source": [
    "texts = [doc.page_content for doc in documents]\n",
    "db_embeddings = embeddings.embed_documents(texts)\n"
   ]
  },
  {
   "cell_type": "markdown",
   "id": "ee61d9e5",
   "metadata": {},
   "source": [
    "## 15-  Create a vector store for both the database and PDF embeddings"
   ]
  },
  {
   "cell_type": "code",
   "execution_count": 19,
   "id": "4ff68de2",
   "metadata": {},
   "outputs": [],
   "source": [
    "# Create FAISS vector database\n",
    "db_vector_store = FAISS.from_embeddings(\n",
    "    text_embeddings=list(zip(texts, db_embeddings)),\n",
    "    embedding=embeddings\n",
    ")\n",
    "\n",
    "# Create a retriever for searching\n",
    "db_retriever = db_vector_store.as_retriever(search_kwargs={\"k\": 5})"
   ]
  },
  {
   "cell_type": "markdown",
   "id": "90dfff53",
   "metadata": {},
   "source": [
    "## 16- Merge pdf and db retrieval"
   ]
  },
  {
   "cell_type": "code",
   "execution_count": 20,
   "id": "cb02fc9c",
   "metadata": {},
   "outputs": [],
   "source": [
    "combined_retriever = EnsembleRetriever(retrievers=[pdf_retriever, db_retriever], weights=[0.5, 0.5])\n"
   ]
  },
  {
   "cell_type": "markdown",
   "id": "b242987c",
   "metadata": {},
   "source": [
    "## 17- Edit RAG pipeline"
   ]
  },
  {
   "cell_type": "code",
   "execution_count": 30,
   "id": "b3e5a072",
   "metadata": {},
   "outputs": [],
   "source": [
    "edit_prompt = PromptTemplate.from_template(\"\"\"\n",
    "You are a helpful financial assistant. Use the following context to answer the question in a friendly and practical way. \n",
    "If the question is about spending, use transaction data. \n",
    "If it's about financial advice, give tips based on the provided documents or general best practices.\n",
    "\n",
    "Context:\n",
    "{context}\n",
    "\n",
    "Question:\n",
    "{question}\n",
    "\n",
    "Answer in a clear, helpful way:\n",
    "\"\"\")"
   ]
  },
  {
   "cell_type": "code",
   "execution_count": 31,
   "id": "82b72ef7",
   "metadata": {},
   "outputs": [],
   "source": [
    "#  RAG Pipeline\n",
    "conversational_rag = ConversationalRetrievalChain.from_llm(\n",
    "    llm=llm,\n",
    "    retriever=combined_retriever,\n",
    "    chain_type=\"stuff\",\n",
    "    memory=memory,\n",
    "    combine_docs_chain_kwargs={\"prompt\": edit_prompt}\n",
    ")"
   ]
  },
  {
   "cell_type": "code",
   "execution_count": 32,
   "id": "7dbb2341",
   "metadata": {},
   "outputs": [
    {
     "name": "stdout",
     "output_type": "stream",
     "text": [
      " Based on the provided transaction data, you did not record any expenses in August. The only transaction listed for that month is your August salary deposit of **1000 EGP**. If you did spend money but didn’t track it, consider using a spending notebook or app to monitor your expenses moving forward!\n"
     ]
    }
   ],
   "source": [
    "query = \"How much do I spend on augest\"\n",
    "response = conversational_rag.invoke({\"question\": query})\n",
    "print(response[\"answer\"])\n"
   ]
  },
  {
   "cell_type": "code",
   "execution_count": 39,
   "id": "eda65b0b",
   "metadata": {},
   "outputs": [
    {
     "name": "stdout",
     "output_type": "stream",
     "text": [
      "Saving money effectively starts with creating a **realistic budget** to understand your income and expenses. Here’s how to get started:\n",
      "\n",
      "1. **Track Your Spending**: Use your transaction data (e.g., salary deposits, expenses) to identify where your money is going. For example, if your monthly income is 1000 EGP, track how much you spend on essentials and non-essentials like eating out or entertainment.\n",
      "\n",
      "2. **Set a Savings Goal**: Decide what you’re saving for—whether it’s an emergency fund, a big purchase, or long-term security. For instance, aim to save 10% of your income (e.g., 100 EGP monthly) as a starting point.\n",
      "\n",
      "3. **Cut Unnecessary Expenses**: Review your spending habits and identify areas to cut back. For example, reduce dining out or subscription services that you don’t fully use.\n",
      "\n",
      "4. **Automate Savings**: Set up a standing order or use apps to automatically transfer money into a savings account right after you get paid. This ensures you “pay yourself first.”\n",
      "\n",
      "5. **Start Small**: If saving feels overwhelming, begin with small amounts. For example, save 1 EGP daily plus loose change in a jar—it adds up over time.\n",
      "\n",
      "6. **Leverage Compound Interest**: Save in an interest-bearing account to grow your money faster. Even small amounts, like 10 EGP monthly, can compound over time.\n",
      "\n",
      "7. **Stay Motivated**: Use tools like the Money Saving Expert Demotivator to avoid unnecessary spending and stick to your plan.\n",
      "\n",
      "For more detailed advice, check out resources like [UWS Money Advice](www.uws.ac.uk/money-fees-funding/money-debt-advice/) and use the [Money Helper Savings Calculator](https://www.moneyhelper.org.uk/en/savings/how-to-save/savings-calculator) to plan your savings timeline. Remember, consistency is key—start small and build up as your confidence grows!\n"
     ]
    }
   ],
   "source": [
    "query2 = \"how to save money\"\n",
    "response2 = conversational_rag.invoke({\"question\": query2})\n",
    "print(response2[\"answer\"])\n"
   ]
  },
  {
   "cell_type": "code",
   "execution_count": 41,
   "id": "3ccece5a",
   "metadata": {
    "scrolled": false
   },
   "outputs": [
    {
     "name": "stdout",
     "output_type": "stream",
     "text": [
      "Here’s a practical and friendly guide to managing your finances effectively:\n",
      "\n",
      "1. **Track Your Spending**: Know where your money goes. Use a budgeting app or simply write down your expenses to identify areas where you can cut back. Even small daily expenses (like coffee) can add up over time.\n",
      "\n",
      "2. **Create a Budget**: Plan how much you’ll spend and stick to it. Include essentials like rent, groceries, and bills, but also allocate some money for savings and fun. Adjust your budget as needed to stay on track.\n",
      "\n",
      "3. **Save First**: Treat savings like a bill you must pay. Set aside money every month—even if it’s a small amount—toward an emergency fund, a big purchase, or future goals.\n",
      "\n",
      "4. **Reduce Debt**: Avoid unnecessary debt, especially high-interest credit cards. If you already have debt, prioritize paying it off. Aim to keep debt payments below 20% of your income.\n",
      "\n",
      "5. **Plan for Big Expenses**: Save in advance for major purchases (like a car or vacation) instead of relying on credit. This helps you avoid financial stress later.\n",
      "\n",
      "6. **Prepare for Emergencies**: Build an emergency fund with at least six months of living expenses. This safety net can help you handle unexpected events without derailing your finances.\n",
      "\n",
      "7. **Invest Wisely**: Once you have savings and an emergency fund, consider investing to grow your wealth. Start small if needed, and focus on low-risk options until you’re comfortable.\n",
      "\n",
      "8. **Set Financial Goals**: Define what you want to achieve—short-term (like saving for a trip) or long-term (like buying a home). Write down your goals and create a plan to reach them.\n",
      "\n",
      "9. **Review Regularly**: Check your progress monthly or quarterly. Adjust your budget, savings, and investments as your income or priorities change.\n",
      "\n",
      "By following these steps and staying disciplined, you’ll gain better control over your finances and work toward achieving your financial goals. 😊\n"
     ]
    }
   ],
   "source": [
    "query_3=\"how i can manage my finance ? \"\n",
    "response_3=conversational_rag.invoke({\"question\": query_3})\n",
    "print(response_3[\"answer\"])\n"
   ]
  },
  {
   "cell_type": "code",
   "execution_count": 36,
   "id": "2ce60934",
   "metadata": {
    "scrolled": false
   },
   "outputs": [
    {
     "name": "stdout",
     "output_type": "stream",
     "text": [
      " Here are some practical strategies to help you save money effectively:\n",
      "\n",
      "1. **Budget First**: Before saving, create a realistic budget to understand your income and expenses. This helps you identify areas where you can cut back and allocate funds toward savings. Use budgeting tools or apps to track your spending.\n",
      "\n",
      "2. **Pay Yourself First**: Treat savings as a non-negotiable expense. Set aside a portion of your income (even if it’s small) as soon as you get paid. Automate transfers to a savings account to make this easier.\n",
      "\n",
      "3. **Start Small**: If you’re new to saving, begin with manageable goals, like saving spare change in a jar. Gradually increase your savings as your confidence and income grow.\n",
      "\n",
      "4. **Reduce Unnecessary Expenses**: Identify non-essential spending (e.g., eating out, subscriptions) and cut back on these. Redirect the saved money into your savings or investments.\n",
      "\n",
      "5. **Avoid Debt**: Limit credit card use and focus on paying off existing debt. Keeping debt payments below 20% of your income is a good rule of thumb.\n",
      "\n",
      "6. **Use Savings Tools**: Explore safe and accessible savings options like savings accounts, money market accounts, or U.S. savings bonds. These offer low risk and steady growth.\n",
      "\n",
      "7. **Set Goals**: Define clear savings goals (e.g., emergency fund, retirement, major purchase) to stay motivated and focused.\n",
      "\n",
      "8. **Invest Wisely**: Once you’ve built a savings cushion, consider investing in stocks, bonds, or mutual funds to grow your wealth over time.\n",
      "\n",
      "9. **Review Regularly**: Periodically assess your financial plan and make adjustments as needed to stay on track.\n",
      "\n",
      "Remember, saving is a gradual process, and even small steps can lead to significant progress over time!\n"
     ]
    }
   ],
   "source": [
    "query_4 = \"What are the best strategies for saving money?\"\n",
    "response_4 = conversational_rag.invoke({\"question\": query_4})\n",
    "print(response_4[\"answer\"])\n",
    "\n"
   ]
  },
  {
   "cell_type": "code",
   "execution_count": 40,
   "id": "3af344d4",
   "metadata": {},
   "outputs": [
    {
     "name": "stdout",
     "output_type": "stream",
     "text": [
      "The result of 2 plus 2 is **4**. This is a basic arithmetic addition, where you combine two quantities to get a total. 🧮\n"
     ]
    }
   ],
   "source": [
    "query_5=\"What's the result of 2+2\"\n",
    "response_5 = conversational_rag.invoke({\"question\": query_5})\n",
    "print(response_5[\"answer\"])\n"
   ]
  },
  {
   "cell_type": "code",
   "execution_count": null,
   "id": "cb4bb8ae",
   "metadata": {},
   "outputs": [],
   "source": []
  },
  {
   "cell_type": "code",
   "execution_count": null,
   "id": "6e1c1c99",
   "metadata": {},
   "outputs": [],
   "source": []
  }
 ],
 "metadata": {
  "kernelspec": {
   "display_name": "Python 3 (ipykernel)",
   "language": "python",
   "name": "python3"
  },
  "language_info": {
   "codemirror_mode": {
    "name": "ipython",
    "version": 3
   },
   "file_extension": ".py",
   "mimetype": "text/x-python",
   "name": "python",
   "nbconvert_exporter": "python",
   "pygments_lexer": "ipython3",
   "version": "3.9.12"
  }
 },
 "nbformat": 4,
 "nbformat_minor": 5
}
