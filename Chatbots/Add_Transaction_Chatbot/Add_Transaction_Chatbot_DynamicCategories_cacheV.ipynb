{
 "cells": [
  {
   "cell_type": "markdown",
   "id": "934c50c1",
   "metadata": {},
   "source": [
    "This notebook builds a smart finance assistant chatbot that leverages AI to help users track and manage their personal transactions. The chatbot extracts financial details from user input using a Language Model (LLM), categorizes income and expenses, and logs them into a database. **It personalizes categories for each user**, validates entries, and provides insightful feedback about spending habits. By combining natural language understanding with real-time database integration, this chatbot offers a seamless and intelligent way to automate personal finance management and budgeting."
   ]
  },
  {
   "cell_type": "markdown",
   "id": "4f909cf5",
   "metadata": {},
   "source": [
    "## 1- Import Libraries "
   ]
  },
  {
   "cell_type": "code",
   "execution_count": 2,
   "id": "679bf93f",
   "metadata": {},
   "outputs": [],
   "source": [
    "import os\n",
    "from langchain_fireworks import Fireworks\n",
    "from langchain.memory import ConversationBufferMemory\n",
    "from datetime import datetime\n",
    "from langchain.retrievers import EnsembleRetriever\n",
    "import re\n",
    "from dateparser import parse as date_parse\n",
    "from datetime import datetime\n",
    "from supabase import create_client, Client\n",
    "from dotenv import load_dotenv"
   ]
  },
  {
   "cell_type": "markdown",
   "id": "5b7abbaf",
   "metadata": {},
   "source": [
    "## 2- Set API key "
   ]
  },
  {
   "cell_type": "code",
   "execution_count": null,
   "id": "1cdff612",
   "metadata": {},
   "outputs": [],
   "source": [
    "# Load the .env file\n",
    "load_dotenv()\n",
    "\n",
    "# Access the variables\n",
    "api_key = os.getenv(\"API_KEY\")"
   ]
  },
  {
   "cell_type": "markdown",
   "id": "ff5c6e8f",
   "metadata": {},
   "source": [
    "## 3- Call LLM "
   ]
  },
  {
   "cell_type": "code",
   "execution_count": 4,
   "id": "b38b8309",
   "metadata": {},
   "outputs": [
    {
     "name": "stdout",
     "output_type": "stream",
     "text": [
      " My name is Jack and I’m from Japan. Today, we’re going to talk about two English words that often confuse learners: “tooth” and “teeth”. Many people wonder why one word uses an “oo” sound, while the other uses an “ee” sound. Well, we’re going to explore that today and also look at some related grammar points. Let’s get started!\n",
      "\n",
      "### 1. The basics: singular and plural forms\n",
      "\n",
      "The first thing you need to know is that these words are related.\n",
      "\n",
      "- Tooth (pronounced /tuːθ/): This is the singular form. It refers to one of the hard, white structures in the mouth used for biting and chewing.\n",
      "\n",
      "Example sentences to learn the usage of “tooth”:\n",
      "\n",
      "- I need to brush my tooth every day. (Here, “tooth” refers to one specific tooth, perhaps a problem tooth.)\n",
      "- The child lost a tooth yesterday. (Referring to a single lost tooth.)\n",
      "- My tooth hurts; I think I need to see the dentist.\n",
      "\n",
      "- Teeth (pronounced /tiːθ/): This is the plural form. It refers to more than one tooth.\n",
      "\n",
      "Example sentences to learn the usage of “teeth”:\n",
      "\n",
      "- I brush my teeth twice a day. (Here, “teeth” refers to all the teeth in the mouth.)\n",
      "- The dentist cleaned my teeth this morning. (Referring to multiple teeth.)\n",
      "- Her teeth are very white and straight.\n",
      "\n",
      "### 2. Why the difference in pronunciation?\n",
      "\n",
      "You might be wondering why “tooth” and “teeth” are pronounced differently. This is due to a historical linguistic change called vowel mutation or umlaut.\n",
      "\n",
      "In Old English, the word for tooth was “tōθ” (singular) and “tēθ” (plural). The vowel in the plural form shifted to “ee” (/iː/) to distinguish it from the singular form. This pattern is common in English and happens in other words, such as:\n",
      "\n",
      "- foot (singular) – feet (plural)\n",
      "- goose (singular) – geese (plural)\n",
      "- man (singular) – men (plural)\n",
      "\n",
      "So, the “oo” (/uː/) sound in “tooth” changes to an “ee” (/iː/) sound in “teeth” to indicate that there’s more than one tooth.\n",
      "\n",
      "### 3. Common mistakes and corrections\n",
      "\n",
      "I see learners make a few common mistakes with these words. Let’s look at some examples and how to correct them.\n",
      "\n",
      "- Incorrect: Brush your tooth twice a day.\n",
      "Correct: Brush your teeth twice a day.\n",
      "\n",
      "Explanation: Use “teeth” when referring to all the teeth in the mouth.\n",
      "\n",
      "- Incorrect: I have to get my teeth pull out.\n",
      "Correct: I have to get my tooth pulled out.\n",
      "\n",
      "Explanation: Use “tooth” when referring to a single tooth.\n",
      "\n",
      "- Incorrect: My sister lost her tooths last week.\n",
      "Correct: My sister lost her teeth last week.\n",
      "\n",
      "Explanation: The plural of “tooth” is always “teeth,” not “tooths.”\n",
      "\n",
      "### 4. More example sentences\n",
      "\n",
      "To help you get a better grasp of these words, here are more example sentences showing the correct usage of “tooth” and “teeth.”\n",
      "\n",
      "#### Sentences using “tooth”:\n",
      "\n",
      "- My wisdom tooth is causing me pain.\n",
      "- He broke a tooth while playing hockey.\n",
      "- The dentist filled the cavity in her tooth.\n",
      "- I need to get a crown for my tooth.\n",
      "- Her baby’s first tooth just came in.\n",
      "\n",
      "#### Sentences using “teeth”:\n",
      "\n",
      "- Regular brushing can keep your teeth healthy.\n",
      "- The dog bared its teeth and growled.\n",
      "- She has a beautiful smile with straight teeth.\n",
      "- He clenched his teeth in anger.\n",
      "- Whitening products can make your teeth look brighter.\n",
      "\n",
      "### 5. Phrases and idioms with “teeth”\n",
      "\n",
      "Learning common phrases and idioms can help you sound more fluent. Here are a few with the word “teeth.”\n",
      "\n",
      "1. “Cut your teeth on something”: This means to gain initial experience with something.\n",
      "\n",
      "- Example: She cut her teeth on small projects before taking on major roles.\n",
      "\n",
      "2. “Long in the tooth”: This means old or aging.\n",
      "\n",
      "- Example: That actor is getting a bit long in the tooth for action roles.\n",
      "\n",
      "3. “Sweet tooth”: This refers to a liking for sweet foods.\n",
      "\n",
      "- Example: I have a sweet tooth, so I can’t resist chocolate.\n",
      "\n",
      "4. “Bare one’s teeth”: This means to show anger or aggression.\n",
      "\n",
      "- Example: The competitor bared his teeth and prepared for the final round.\n",
      "\n",
      "5. “By the skin of your teeth”: This means to barely succeed or escape.\n",
      "\n",
      "- Example: I passed the exam by the skin of my teeth.\n",
      "\n",
      "### 6. How to practice using “tooth” and “teeth”\n",
      "\n",
      "Now that you know the difference, let’s talk about how you can practice using these words correctly.\n",
      "\n",
      "\n"
     ]
    }
   ],
   "source": [
    "llm = Fireworks(api_key=api_key, model=\"accounts/fireworks/models/deepseek-v3\", temperature=1.0, max_tokens=1024)\n",
    "response = llm.invoke(\"Hello, how are you?\")\n",
    "print(response)"
   ]
  },
  {
   "cell_type": "markdown",
   "id": "b5e47f0a",
   "metadata": {},
   "source": [
    "## 4- Create memory"
   ]
  },
  {
   "cell_type": "code",
   "execution_count": 5,
   "id": "52f3e263",
   "metadata": {},
   "outputs": [
    {
     "name": "stderr",
     "output_type": "stream",
     "text": [
      "C:\\Users\\Tony\\AppData\\Local\\Temp\\ipykernel_5900\\1343280667.py:2: LangChainDeprecationWarning: Please see the migration guide at: https://python.langchain.com/docs/versions/migrating_memory/\n",
      "  memory = ConversationBufferMemory(memory_key=\"chat_history\", return_messages=True)\n"
     ]
    }
   ],
   "source": [
    "#  Initialize memory\n",
    "memory = ConversationBufferMemory(memory_key=\"chat_history\", return_messages=True)\n"
   ]
  },
  {
   "cell_type": "markdown",
   "id": "674db5f9",
   "metadata": {},
   "source": [
    "## 5- Fetch database"
   ]
  },
  {
   "cell_type": "code",
   "execution_count": null,
   "id": "8705865a",
   "metadata": {
    "scrolled": true
   },
   "outputs": [],
   "source": [
    "# Load .env\n",
    "load_dotenv()\n",
    "url = os.getenv(\"SUPABASE_URL\")\n",
    "key = os.getenv(\"SUPABASE_KEY\")\n",
    "\n",
    "# Connect to Supabase\n",
    "supabase: Client = create_client(url, key)"
   ]
  },
  {
   "cell_type": "code",
   "execution_count": 7,
   "id": "baca0ba0",
   "metadata": {},
   "outputs": [
    {
     "name": "stdout",
     "output_type": "stream",
     "text": [
      "[{'transaction_id': '3683c4fc-018d-42ee-803b-69845dd1f0cd', 'user_id': '027051a8-3887-4150-9cfb-a51efb9146b5', 'income': 7000, 'expenses': 0, 'data': 'Monthly salary deposit', 'category_id': '8867173b-22a3-408e-a2b8-9ee2f0bc70b2', 'description': 'August salary', 'created_at': '2025-04-21T10:51:09.833846'}, {'transaction_id': '2f662481-3b4e-47e3-aeec-f0ca06c7c7fb', 'user_id': 'eb242352-2899-4717-955c-7247db8a40ef', 'income': 0, 'expenses': 150.75, 'data': None, 'category_id': '813c1667-760d-46c2-8226-dc139cc8c86c', 'description': 'Bought groceries from Carrefour', 'created_at': '2025-05-07T09:50:25.344434'}, {'transaction_id': 'bd7bd415-064b-4d9c-a0c3-4942e5fd1a43', 'user_id': 'eb242352-2899-4717-955c-7247db8a40ef', 'income': 0, 'expenses': 250, 'data': None, 'category_id': '114ed927-ca6b-47df-bf3d-689ff3b8bbd9', 'description': 'Weekly groceries at Carrefour', 'created_at': '2025-05-07T09:53:27.097738'}, {'transaction_id': 'f7441b54-0fe6-4772-ad92-dcf1c64c44cd', 'user_id': 'eb242352-2899-4717-955c-7247db8a40ef', 'income': 0, 'expenses': 60, 'data': None, 'category_id': '4c056838-9227-4b3d-9fcd-ac117f5a95cb', 'description': 'Electricity bill payment', 'created_at': '2025-05-07T09:53:27.097738'}, {'transaction_id': '70b342a2-6a21-44d2-8185-0e9136331ddc', 'user_id': 'eb242352-2899-4717-955c-7247db8a40ef', 'income': 0, 'expenses': 100, 'data': None, 'category_id': '755da918-2e9e-436a-b38a-2fbad36e9c94', 'description': 'Snacks and small items', 'created_at': '2025-05-07T09:53:27.097738'}, {'transaction_id': '85aa237a-4c00-47e7-94c9-4b57facb5a1e', 'user_id': '027051a8-3887-4150-9cfb-a51efb9146b5', 'income': 0, 'expenses': 100, 'data': None, 'category_id': '337bf3ed-8f2e-4647-ac50-30f327316d07', 'description': 'Grocery shopping', 'created_at': '2025-05-07T00:00:00'}, {'transaction_id': '7306cb6a-af53-4260-b244-d336dc300f2e', 'user_id': '027051a8-3887-4150-9cfb-a51efb9146b5', 'income': 0, 'expenses': 200, 'data': None, 'category_id': '337bf3ed-8f2e-4647-ac50-30f327316d07', 'description': None, 'created_at': '2025-05-07T00:00:00'}, {'transaction_id': '0ddeab0c-ae76-474f-a78f-ab89133bd6fb', 'user_id': '027051a8-3887-4150-9cfb-a51efb9146b5', 'income': 0, 'expenses': 200, 'data': None, 'category_id': '337bf3ed-8f2e-4647-ac50-30f327316d07', 'description': None, 'created_at': '2025-05-07T00:00:00'}, {'transaction_id': 'e4c4211c-de2a-4134-aa4a-1309c69c6c03', 'user_id': '027051a8-3887-4150-9cfb-a51efb9146b5', 'income': 0, 'expenses': 150, 'data': None, 'category_id': '337bf3ed-8f2e-4647-ac50-30f327316d07', 'description': None, 'created_at': '2025-05-07T00:00:00'}, {'transaction_id': 'ff4b370f-5038-41f2-af74-cd6626b5c6e3', 'user_id': '027051a8-3887-4150-9cfb-a51efb9146b5', 'income': 8000, 'expenses': 0, 'data': None, 'category_id': 'a8a017fc-e86f-4c23-9455-4f8db846c59b', 'description': 'salary', 'created_at': '2025-05-10T00:00:00'}, {'transaction_id': '2b6163a6-eb99-44fb-aecd-9c563506d615', 'user_id': '027051a8-3887-4150-9cfb-a51efb9146b5', 'income': 8000, 'expenses': 0, 'data': None, 'category_id': None, 'description': 'Received salary FEEDBACK: That’s great news! A steady income like this is a solid foundation for financial stability. Keep up the good work!', 'created_at': '2025-05-10T00:00:00'}, {'transaction_id': 'e7b6f674-aec0-4c27-9513-03918296292a', 'user_id': '027051a8-3887-4150-9cfb-a51efb9146b5', 'income': 0, 'expenses': 150, 'data': None, 'category_id': None, 'description': 'dinner', 'created_at': '2025-05-09T00:00:00'}, {'transaction_id': '0f97bd76-77a8-4a9e-ba15-50328e5c4691', 'user_id': '027051a8-3887-4150-9cfb-a51efb9146b5', 'income': 8000, 'expenses': 0, 'data': None, 'category_id': 'a8a017fc-e86f-4c23-9455-4f8db846c59b', 'description': 'salary', 'created_at': '2025-05-10T00:00:00'}, {'transaction_id': '175ea50b-4dac-44fb-9927-30332dae3cfc', 'user_id': '027051a8-3887-4150-9cfb-a51efb9146b5', 'income': 0, 'expenses': 150, 'data': None, 'category_id': None, 'description': 'dinner', 'created_at': '2025-05-09T00:00:00'}, {'transaction_id': 'd7b8cc6f-c1f1-4bd3-9e28-25c7af503661', 'user_id': '027051a8-3887-4150-9cfb-a51efb9146b5', 'income': 8000, 'expenses': 0, 'data': None, 'category_id': 'a8a017fc-e86f-4c23-9455-4f8db846c59b', 'description': 'salary', 'created_at': '2025-05-10T00:00:00'}, {'transaction_id': '9c0c148c-7a38-449d-833f-99aba83cb36d', 'user_id': '027051a8-3887-4150-9cfb-a51efb9146b5', 'income': 0, 'expenses': 150, 'data': None, 'category_id': None, 'description': 'dinner', 'created_at': '2025-05-09T00:00:00'}, {'transaction_id': 'ab17a375-b86c-4340-b357-74d4299c96a0', 'user_id': '027051a8-3887-4150-9cfb-a51efb9146b5', 'income': 8000, 'expenses': 0, 'data': None, 'category_id': 'a8a017fc-e86f-4c23-9455-4f8db846c59b', 'description': 'salary', 'created_at': '2025-05-10T00:00:00'}, {'transaction_id': '1e0ad55d-5c23-4fd7-aa78-835702ce0ac5', 'user_id': '027051a8-3887-4150-9cfb-a51efb9146b5', 'income': 0, 'expenses': 150, 'data': None, 'category_id': None, 'description': 'dinner', 'created_at': '2025-05-09T00:00:00'}, {'transaction_id': '1b31fd34-ccb8-4b0e-92ef-8058eb450f20', 'user_id': '027051a8-3887-4150-9cfb-a51efb9146b5', 'income': 150, 'expenses': 0, 'data': None, 'category_id': None, 'description': 'None', 'created_at': '2025-05-10T00:00:00'}, {'transaction_id': 'aaf2cc45-d7ce-487f-b544-30898e6ffddc', 'user_id': '027051a8-3887-4150-9cfb-a51efb9146b5', 'income': 150, 'expenses': 0, 'data': None, 'category_id': None, 'description': 'got', 'created_at': '2025-05-10T00:00:00'}, {'transaction_id': 'cbfd1a43-6588-4122-9b65-c5668a558447', 'user_id': '027051a8-3887-4150-9cfb-a51efb9146b5', 'income': 0, 'expenses': 50, 'data': None, 'category_id': None, 'description': 'today', 'created_at': '2025-05-10T00:00:00'}, {'transaction_id': 'c1d85f7c-1d58-4c3f-be13-8406a0937ec3', 'user_id': '027051a8-3887-4150-9cfb-a51efb9146b5', 'income': 8000, 'expenses': 0, 'data': None, 'category_id': 'a8a017fc-e86f-4c23-9455-4f8db846c59b', 'description': 'salary', 'created_at': '2025-05-10T00:00:00'}, {'transaction_id': '0cbf73f0-eb14-4eb2-a761-0e8d397d737d', 'user_id': '027051a8-3887-4150-9cfb-a51efb9146b5', 'income': 150, 'expenses': 0, 'data': None, 'category_id': '8867173b-22a3-408e-a2b8-9ee2f0bc70b2', 'description': 'dinner', 'created_at': '2025-05-09T00:00:00'}, {'transaction_id': '52d42f84-3f80-46be-a72e-443654c77670', 'user_id': '027051a8-3887-4150-9cfb-a51efb9146b5', 'income': 150, 'expenses': 0, 'data': None, 'category_id': '5a0e2666-4ce0-4992-a3e1-fa66d8c061b9', 'description': 'payment', 'created_at': '2025-05-10T00:00:00'}, {'transaction_id': '7731dc18-53ed-425c-9b20-e38488e7a4a2', 'user_id': '027051a8-3887-4150-9cfb-a51efb9146b5', 'income': 0, 'expenses': 50, 'data': None, 'category_id': None, 'description': 'spending', 'created_at': '2025-05-10T00:00:00'}, {'transaction_id': '1a9b994d-8f54-4212-bf58-7f3344caae97', 'user_id': '027051a8-3887-4150-9cfb-a51efb9146b5', 'income': 0, 'expenses': 150, 'data': None, 'category_id': '8867173b-22a3-408e-a2b8-9ee2f0bc70b2', 'description': 'dinner', 'created_at': '2025-05-09T00:00:00'}]\n"
     ]
    }
   ],
   "source": [
    "# Fetch data from the \"Transaction\" table\n",
    "response = supabase.table(\"transactions\").select(\"*\").execute()\n",
    "data = response.data\n",
    "print(data)"
   ]
  },
  {
   "cell_type": "code",
   "execution_count": 8,
   "id": "3588ec34",
   "metadata": {},
   "outputs": [
    {
     "name": "stdout",
     "output_type": "stream",
     "text": [
      "[{'category_id': '337bf3ed-8f2e-4647-ac50-30f327316d07', 'category_type': 'Food', 'category_name': 'Caffe', 'user_id': None}, {'category_id': 'c45b8dff-e08f-4c36-b30c-68ae7026b2f8', 'category_type': 'Transportation', 'category_name': 'taxi', 'user_id': None}, {'category_id': '3782b789-59fa-45b1-a214-c29e21a2f0e3', 'category_type': 'transportation', 'category_name': 'fuel', 'user_id': None}, {'category_id': '8867173b-22a3-408e-a2b8-9ee2f0bc70b2', 'category_type': 'Expense', 'category_name': 'Groceries', 'user_id': '027051a8-3887-4150-9cfb-a51efb9146b5'}, {'category_id': 'a8a017fc-e86f-4c23-9455-4f8db846c59b', 'category_type': 'Income', 'category_name': 'Salary', 'user_id': '47b66d92-1ea1-4344-af56-0771ed917456'}, {'category_id': 'af91ae83-0d65-4bd1-880f-747f3ebbaf35', 'category_type': 'Expense', 'category_name': 'Utilities', 'user_id': '99eed9c3-78dc-4925-b599-b02332524f78'}, {'category_id': '813c1667-760d-46c2-8226-dc139cc8c86c', 'category_type': 'expense', 'category_name': 'Groceries', 'user_id': 'eb242352-2899-4717-955c-7247db8a40ef'}, {'category_id': '114ed927-ca6b-47df-bf3d-689ff3b8bbd9', 'category_type': 'expense', 'category_name': 'Groceries', 'user_id': 'eb242352-2899-4717-955c-7247db8a40ef'}, {'category_id': '4c056838-9227-4b3d-9fcd-ac117f5a95cb', 'category_type': 'income', 'category_name': 'Salary', 'user_id': 'eb242352-2899-4717-955c-7247db8a40ef'}, {'category_id': '755da918-2e9e-436a-b38a-2fbad36e9c94', 'category_type': 'expense', 'category_name': 'Utilities', 'user_id': 'eb242352-2899-4717-955c-7247db8a40ef'}, {'category_id': '8a0fd545-eca2-4c71-891d-93903f135eaf', 'category_type': 'Expense', 'category_name': 'Kids', 'user_id': '027051a8-3887-4150-9cfb-a51efb9146b5'}, {'category_id': 'c6ee5094-c69e-4bff-b863-33f47a456925', 'category_type': 'Income', 'category_name': 'Salary', 'user_id': '027051a8-3887-4150-9cfb-a51efb9146b5'}, {'category_id': 'd5bc45c8-a4ff-4e0c-ac35-2c8366ba4d3b', 'category_type': 'Expense', 'category_name': 'Pets', 'user_id': '027051a8-3887-4150-9cfb-a51efb9146b5'}, {'category_id': '5a0e2666-4ce0-4992-a3e1-fa66d8c061b9', 'category_type': 'Income', 'category_name': 'Freelance', 'user_id': '027051a8-3887-4150-9cfb-a51efb9146b5'}]\n"
     ]
    }
   ],
   "source": [
    "# Fetch data from the \"categories\" table\n",
    "response = supabase.table(\"categories\").select(\"*\").execute()\n",
    "data = response.data\n",
    "print(data)"
   ]
  },
  {
   "cell_type": "markdown",
   "id": "b242987c",
   "metadata": {},
   "source": [
    "## 6- Fetch user categories"
   ]
  },
  {
   "cell_type": "code",
   "execution_count": 16,
   "id": "4b05124d",
   "metadata": {},
   "outputs": [],
   "source": [
    "def fetch_user_categories(user_id, supabase, type_group=\"expense\"):\n",
    "    cat_type = 'Expense' if type_group.lower() == \"expense\" else 'Income'\n",
    "    response = (\n",
    "        supabase\n",
    "        .table(\"categories\")\n",
    "        .select(\"*\")\n",
    "        .eq(\"user_id\", user_id)\n",
    "        .eq(\"category_type\", cat_type)\n",
    "        .execute()\n",
    "    )\n",
    "    cat_data = response.data\n",
    "    categories = [c[\"category_name\"] for c in cat_data]\n",
    "    return categories"
   ]
  },
  {
   "cell_type": "code",
   "execution_count": 17,
   "id": "f26fa3d3",
   "metadata": {},
   "outputs": [],
   "source": [
    "# Global cache for user categories\n",
    "user_categories_cache = {}\n",
    "\n",
    "# Caching function\n",
    "# Whenever you want to (re)fetch and store categories for a user (call at login/session start, or after user edits their categories):\n",
    "def update_user_categories_cache(user_id, supabase):\n",
    "    expense_categories = fetch_user_categories(user_id, supabase, type_group=\"expense\")\n",
    "    income_categories = fetch_user_categories(user_id, supabase, type_group=\"income\")\n",
    "    user_categories_cache[user_id] = {\n",
    "        \"expense\": expense_categories,\n",
    "        \"income\": income_categories\n",
    "    }\n",
    "\n",
    "# Cache-aware fetcher\n",
    "# Use cached categories if present, or update (and cache) if not:\n",
    "def get_cached_user_categories(user_id, supabase):\n",
    "    if user_id not in user_categories_cache:\n",
    "        update_user_categories_cache(user_id, supabase)\n",
    "    return user_categories_cache[user_id]"
   ]
  },
  {
   "cell_type": "markdown",
   "id": "09701bf0",
   "metadata": {},
   "source": [
    "## 7- Prompt"
   ]
  },
  {
   "cell_type": "code",
   "execution_count": 33,
   "id": "cb4bb8ae",
   "metadata": {},
   "outputs": [],
   "source": [
    "def process_transaction_with_llm(text, user_id, supabase):\n",
    "    # Get cached categories\n",
    "    categories = get_cached_user_categories(user_id, supabase)\n",
    "    expense_categories = categories['expense']\n",
    "    income_categories = categories['income']\n",
    "    expense_list = \", \".join(expense_categories)\n",
    "    income_list = \", \".join(income_categories)\n",
    "    \n",
    "    # Prompt for extracting transaction details\n",
    "    transaction_prompt = f\"\"\"\n",
    "    Extract transaction details from the following text and classify the amount as either income or expense.\n",
    "    If it's an expense, put amount in EXPENSE; if it’s income, put amount in INCOME. Extract date (handle relative dates like 'yesterday'), a description, and the category.\n",
    "    If a specific date is not mentioned, assume today's date. If you cant classify the amount as either income or expense,\n",
    "    assume it is expense and keep it uncategorized. Provide a natural response about the spending.\n",
    "\n",
    "    Text: {{input_text}}\n",
    "\n",
    "    Current date: {{current_date}}\n",
    "\n",
    "    Format your response as follows:\n",
    "    DATE: [Extract the date, handle relative dates like 'this morning', 'yesterday', 'last week', etc.]\n",
    "    EXPENSE: [amount, if spending; leave blank if not]\n",
    "    INCOME: [amount, if income; leave blank if not]\n",
    "    CATEGORY: [Classify into exactly one from this list if expense: {expense_list}\n",
    "               Classify into into exactly one from this list if income: {income_list} \n",
    "               Do not invent new categories! If none fit, choose the nearest]\n",
    "    Description: [one or two word description of the transaction]\n",
    "    FEEDBACK: [Provide a natural, conversational response about the spending. Consider:\n",
    "    - If it's a good deal or expensive for that category\n",
    "    - Suggest money-saving tips if relevant\n",
    "    - Compliment good financial decisions\n",
    "    - Express concern for unusually high spending\n",
    "    - Comment on the timing or necessity of the purchase\n",
    "    Make it sound natural and varied.]\n",
    "\n",
    "    Example:\n",
    "    Input: \"I got today 2,000 EGP from upwork\"\n",
    "    DATE: 2024-01-30\n",
    "    INCOME: 2000\n",
    "    CATEGORY: Part-time\n",
    "    DESCRIPTION: upwork\n",
    "    FEEDBACK: That’s wonderful—congrats on your part-time job!\n",
    "    \n",
    "    Input: \"Bought lunch for 50 EGP yesterday\"\n",
    "    DATE: 2024-01-29\n",
    "    EXPENSE: 50\n",
    "    CATEGORY: Food\n",
    "    DESCRIPTION: lunch\n",
    "    FEEDBACK: That's a reasonable amount for lunch! If you're looking to save more, you might consider bringing lunch from home occasionally.\n",
    "    \"\"\"\n",
    "\n",
    "    # Prepare the prompt with current date\n",
    "    current_date = datetime.now().strftime('%Y-%m-%d')\n",
    "    formatted_prompt = transaction_prompt.format(\n",
    "        input_text=text,\n",
    "        current_date=current_date\n",
    "    )\n",
    "\n",
    "    # Get response from LLM\n",
    "    response = llm.invoke(formatted_prompt)\n",
    "    \n",
    "    # Parse the response (you might need to adjust this based on your LLM's output format)\n",
    "    return response\n",
    "\n"
   ]
  },
  {
   "cell_type": "markdown",
   "id": "c4511e28",
   "metadata": {},
   "source": [
    "this user has no food category so if dinner categorized as Groceries the test is successed"
   ]
  },
  {
   "cell_type": "code",
   "execution_count": 27,
   "id": "14f08ecc",
   "metadata": {},
   "outputs": [
    {
     "name": "stdout",
     "output_type": "stream",
     "text": [
      "{'expense': ['Groceries', 'Kids', 'Pets'], 'income': ['Salary', 'Freelance']}\n"
     ]
    }
   ],
   "source": [
    "categories = get_cached_user_categories(user_id=\"027051a8-3887-4150-9cfb-a51efb9146b5\", supabase=supabase)\n",
    "print(categories)"
   ]
  },
  {
   "cell_type": "code",
   "execution_count": 34,
   "id": "89dc02de",
   "metadata": {
    "scrolled": true
   },
   "outputs": [
    {
     "name": "stdout",
     "output_type": "stream",
     "text": [
      "\n",
      "\n",
      "\n",
      "    DATE: 2025-05-09\n",
      "    EXPENSE: 150\n",
      "    CATEGORY: Groceries\n",
      "    DESCRIPTION: dinner\n",
      "    FEEDBACK: Dinner for 150 EGP seems pretty standard—just make sure it fit within your budget! If dining out frequently, you might want to balance it with home-cooked meals to save some extra cash.\n"
     ]
    }
   ],
   "source": [
    "print(process_transaction_with_llm(\"Had dinner for 150 EGP last night\", user_id=\"027051a8-3887-4150-9cfb-a51efb9146b5\", supabase=supabase))\n"
   ]
  },
  {
   "cell_type": "code",
   "execution_count": 25,
   "id": "807f63da",
   "metadata": {},
   "outputs": [
    {
     "name": "stdout",
     "output_type": "stream",
     "text": [
      "\n",
      "\n",
      "\n",
      "    Input: \"Milk 50\"\n",
      "    DATE: 2025-05-10\n",
      "    EXPENSE: 50\n",
      "    CATEGORY: Groceries\n",
      "    DESCRIPTION: Milk\n",
      "    FEEDBACK: That’s a reasonable price for milk. It’s a good idea to keep an eye out for discounts or bulk offers to save even more.\n"
     ]
    }
   ],
   "source": [
    "print(process_transaction_with_llm(\"Milk 50\", user_id=\"027051a8-3887-4150-9cfb-a51efb9146b5\", supabase=supabase))\n"
   ]
  },
  {
   "cell_type": "code",
   "execution_count": 29,
   "id": "fd72541e",
   "metadata": {},
   "outputs": [
    {
     "name": "stdout",
     "output_type": "stream",
     "text": [
      "\n",
      "\n",
      "\n",
      "    DATE: 2025-05-10\n",
      "    INCOME: 500\n",
      "    CATEGORY: Freelance\n",
      "    DESCRIPTION: tasks\n",
      "    FEEDBACK: Great job earning from your freelance work! It’s always rewarding to see your efforts pay off. Keep it up!\n"
     ]
    }
   ],
   "source": [
    "print(process_transaction_with_llm(\"work on tasks got 500\", user_id=\"027051a8-3887-4150-9cfb-a51efb9146b5\", supabase=supabase))"
   ]
  },
  {
   "cell_type": "code",
   "execution_count": 35,
   "id": "1ae79357",
   "metadata": {},
   "outputs": [
    {
     "name": "stdout",
     "output_type": "stream",
     "text": [
      "\n",
      "\n",
      "\n",
      "    DATE: 2025-05-10\n",
      "    INCOME: 500\n",
      "    CATEGORY: Uncategorized\n",
      "    DESCRIPTION: got\n",
      "    FEEDBACK: That's great to receive 500! If this is from a gig or side hustle, consider saving a portion of it for future investments.\n"
     ]
    }
   ],
   "source": [
    "print(process_transaction_with_llm(\"got 500\", user_id=\"027051a8-3887-4150-9cfb-a51efb9146b5\", supabase=supabase))"
   ]
  },
  {
   "cell_type": "code",
   "execution_count": 36,
   "id": "45426e7c",
   "metadata": {},
   "outputs": [
    {
     "name": "stdout",
     "output_type": "stream",
     "text": [
      " \n",
      "\n",
      "    DATE: 2025-05-10\n",
      "    EXPENSE: 200\n",
      "    INCOME: \n",
      "    CATEGORY: Kids\n",
      "    DESCRIPTION: SON\n",
      "    FEEDBACK: It seems like you’ve spent on something for your son. Kids’ expenses can add up quickly, so always look for opportunities to save—like reusing items or finding discounts when possible!\n"
     ]
    }
   ],
   "source": [
    "print(process_transaction_with_llm(\"SON 200\", user_id=\"027051a8-3887-4150-9cfb-a51efb9146b5\", supabase=supabase))"
   ]
  },
  {
   "cell_type": "code",
   "execution_count": 37,
   "id": "01ffe0c8",
   "metadata": {},
   "outputs": [
    {
     "name": "stdout",
     "output_type": "stream",
     "text": [
      "\t\n",
      "    DATE: 2025-05-10\n",
      "    EXPENSE: 200\n",
      "    CATEGORY: Pets\n",
      "    DESCRIPTION: catii\n",
      "    FEEDBACK: Cat food or supplies can add up, so 200 seems reasonable for your pet’s needs. Just make sure to budget for these recurring expenses!\n"
     ]
    }
   ],
   "source": [
    "print(process_transaction_with_llm(\"catii eat 200\", user_id=\"027051a8-3887-4150-9cfb-a51efb9146b5\", supabase=supabase))"
   ]
  },
  {
   "cell_type": "code",
   "execution_count": 38,
   "id": "12b559b2",
   "metadata": {},
   "outputs": [
    {
     "name": "stdout",
     "output_type": "stream",
     "text": [
      "\n",
      "\n",
      "\n",
      "    DATE: 2025-05-10\n",
      "    EXPENSE: 200\n",
      "    CATEGORY: Kids\n",
      "    DESCRIPTION: shirt\n",
      "    FEEDBACK: 200 for a shirt seems a bit steep, especially if it’s for kids who outgrow clothes quickly. Maybe look for sales or second-hand options next time!\n"
     ]
    }
   ],
   "source": [
    "print(process_transaction_with_llm(\"little shirt 200\", user_id=\"027051a8-3887-4150-9cfb-a51efb9146b5\", supabase=supabase))"
   ]
  },
  {
   "cell_type": "markdown",
   "id": "b59b9267",
   "metadata": {},
   "source": [
    "## 8- Parse response"
   ]
  },
  {
   "cell_type": "code",
   "execution_count": 39,
   "id": "b595259f",
   "metadata": {},
   "outputs": [],
   "source": [
    "import re\n",
    "from datetime import datetime\n",
    "from dateparser import parse as date_parse\n",
    "\n",
    "def parse_llm_response(response):\n",
    "    # Extract date (default to today if not found or \"Unknown\")\n",
    "    date_match = re.search(r\"DATE:\\s*(.*)\", response)\n",
    "    date_str = date_match.group(1).strip() if date_match else None\n",
    "    if not date_str or date_str.lower() == \"unknown\":\n",
    "        date_obj = datetime.now()\n",
    "    else:\n",
    "        date_obj = date_parse(date_str)\n",
    "        if not date_obj:\n",
    "            date_obj = datetime.now()\n",
    "    date_iso = date_obj.strftime(\"%Y-%m-%d\")\n",
    "\n",
    "    # Extract EXPENSE and INCOME\n",
    "    expense_match = re.search(r\"EXPENSE:\\s*([\\d.]+)\", response, re.IGNORECASE)\n",
    "    income_match = re.search(r\"INCOME:\\s*([\\d.]+)\", response, re.IGNORECASE)\n",
    "    expinc_match = re.search(r\"EXPENSE/INCOME:\\s*([\\d.]+)\", response, re.IGNORECASE)\n",
    "\n",
    "    if expense_match:\n",
    "        expense = float(expense_match.group(1))\n",
    "        income = 0.0\n",
    "    elif income_match:\n",
    "        expense = 0.0\n",
    "        income = float(income_match.group(1))\n",
    "    elif expinc_match:\n",
    "        expense = float(expinc_match.group(1))\n",
    "        income = 0.0  #  default this to expense!\n",
    "    else:\n",
    "        expense = 0.0\n",
    "        income = 0.0\n",
    "\n",
    "    # Extract DESCRIPTION\n",
    "    desc_match = re.search(r\"DESCRIPTION:\\s*(.*)\", response, re.IGNORECASE)\n",
    "    description = desc_match.group(1).strip() if desc_match and desc_match.group(1).strip() else None\n",
    "\n",
    "    # Extract CATEGORY (optional)\n",
    "    category_match = re.search(r\"CATEGORY:\\s*(.*)\", response)\n",
    "    category = category_match.group(1).strip() if category_match and category_match.group(1).strip() else None\n",
    "\n",
    "    # Extract FEEDBACK (optional)\n",
    "    feedback_match = re.search(r\"FEEDBACK:\\s*(.*)\", response)\n",
    "    feedback = feedback_match.group(1).strip() if feedback_match else \"\"\n",
    "\n",
    "    return {\n",
    "        \"date\": date_iso,\n",
    "        \"expense\": expense,\n",
    "        \"income\": income,\n",
    "        \"category\": category,\n",
    "        \"description\": description,\n",
    "        \"feedback\": feedback\n",
    "    }\n",
    "\n"
   ]
  },
  {
   "cell_type": "markdown",
   "id": "2d56b1a8",
   "metadata": {},
   "source": [
    "## 9- Get category_id"
   ]
  },
  {
   "cell_type": "code",
   "execution_count": 40,
   "id": "a8d4c283",
   "metadata": {},
   "outputs": [],
   "source": [
    "def get_category_id(category_name: str, supabase):\n",
    "    # Returns None if category_name is None or not found\n",
    "    if not category_name:\n",
    "        return None\n",
    "    cat_response = supabase.table(\"categories\").select(\"category_id\").eq(\"category_name\", category_name).execute()\n",
    "    cat_data = cat_response.data\n",
    "    if cat_data:\n",
    "        return cat_data[0][\"category_id\"]\n",
    "    else:\n",
    "        return None\n"
   ]
  },
  {
   "cell_type": "markdown",
   "id": "f8f40174",
   "metadata": {},
   "source": [
    "## 10- Add transaction into DB"
   ]
  },
  {
   "cell_type": "code",
   "execution_count": 41,
   "id": "c7927f96",
   "metadata": {},
   "outputs": [],
   "source": [
    "def add_transaction_from_llm(llm_response, user_id, supabase):\n",
    "    extracted = parse_llm_response(llm_response)\n",
    "    description_valid = extracted[\"description\"] not in (None, \"\", \"No Description\")\n",
    "    amount_valid = (extracted[\"expense\"] > 0 or extracted[\"income\"] > 0)\n",
    "\n",
    "    if not description_valid or not amount_valid:\n",
    "        return \"❌ Cannot add transaction: missing information.\"\n",
    "\n",
    "    category_id = get_category_id(extracted[\"category\"], supabase)\n",
    "    new_transaction = {\n",
    "        \"income\": extracted[\"income\"],\n",
    "        \"expenses\": extracted[\"expense\"],\n",
    "        \"description\": extracted[\"description\"],\n",
    "        \"created_at\": extracted[\"date\"],\n",
    "        \"user_id\": user_id,\n",
    "        \"category_id\": category_id\n",
    "    }\n",
    "    response = supabase.table(\"transactions\").insert(new_transaction).execute()\n",
    "\n",
    "    # Build friendly message for user\n",
    "    # Compose a string stating what was added, and echo the LLM's feedback\n",
    "    tx_type = \"income\" if extracted[\"income\"] > 0 else \"expense\"\n",
    "    tx_value = extracted[\"income\"] if extracted[\"income\"] > 0 else extracted[\"expense\"]\n",
    "\n",
    "    user_reply = (\n",
    "        f\"✅ Added {tx_type} transaction: {extracted['description']}, \"\n",
    "        f\"{tx_value} EGP, \"\n",
    "        f\"date: {extracted['date']}\"\n",
    "    )\n",
    "    if extracted[\"category\"]:\n",
    "        user_reply += f\", category: {extracted['category']}.\"\n",
    "    else:\n",
    "        user_reply += \".\"\n",
    "    if extracted[\"feedback\"]:\n",
    "        user_reply += f\"\\n💬 {extracted['feedback']}\"\n",
    "    return user_reply"
   ]
  },
  {
   "cell_type": "markdown",
   "id": "d75045a9",
   "metadata": {},
   "source": [
    "## 11- Test"
   ]
  },
  {
   "cell_type": "code",
   "execution_count": 42,
   "id": "96ed1e7d",
   "metadata": {},
   "outputs": [
    {
     "name": "stdout",
     "output_type": "stream",
     "text": [
      "\n",
      "\n",
      "\n",
      "    DATE: 2025-05-10\n",
      "    INCOME: 8000\n",
      "    CATEGORY: Salary\n",
      "    DESCRIPTION: salary\n",
      "    FEEDBACK: Congratulations on receiving your salary! This is a great time to plan your budget and ensure you're saving or investing wisely. Keep up the good work and enjoy your earnings.\n"
     ]
    },
    {
     "name": "stderr",
     "output_type": "stream",
     "text": [
      "C:\\Users\\Tony\\anaconda3\\lib\\site-packages\\tzlocal\\utils.py:39: UserWarning: Timezone offset does not match system offset: 7200 != 10800. Please, check your config files.\n",
      "  warnings.warn(msg)\n"
     ]
    },
    {
     "name": "stdout",
     "output_type": "stream",
     "text": [
      "✅ Added income transaction: salary, 8000.0 EGP, date: 2025-05-10, category: Salary.\n",
      "💬 Congratulations on receiving your salary! This is a great time to plan your budget and ensure you're saving or investing wisely. Keep up the good work and enjoy your earnings.\n"
     ]
    }
   ],
   "source": [
    "user_input = \"Received salary 8000 EGP today\"\n",
    "llm_response = process_transaction_with_llm(user_input, user_id=\"027051a8-3887-4150-9cfb-a51efb9146b5\", supabase=supabase) \n",
    "print(llm_response)\n",
    "result = add_transaction_from_llm(llm_response, user_id=\"027051a8-3887-4150-9cfb-a51efb9146b5\", supabase=supabase)\n",
    "print(result)"
   ]
  },
  {
   "cell_type": "code",
   "execution_count": 43,
   "id": "3cfc5251",
   "metadata": {},
   "outputs": [
    {
     "name": "stdout",
     "output_type": "stream",
     "text": [
      "\n",
      "\n",
      "\n",
      "    DATE: 2025-05-09\n",
      "    EXPENSE: 150\n",
      "    CATEGORY: [uncategorized]\n",
      "    DESCRIPTION: dinner\n",
      "    FEEDBACK: Dinner for 150 EGP seems a bit on the higher side. Next time, you might want to explore more budget-friendly options or consider cooking at home to save some extra cash.\n"
     ]
    },
    {
     "name": "stderr",
     "output_type": "stream",
     "text": [
      "C:\\Users\\Tony\\anaconda3\\lib\\site-packages\\tzlocal\\utils.py:39: UserWarning: Timezone offset does not match system offset: 7200 != 10800. Please, check your config files.\n",
      "  warnings.warn(msg)\n"
     ]
    },
    {
     "data": {
      "text/plain": [
       "'✅ Added expense transaction: dinner, 150.0 EGP, date: 2025-05-09, category: [uncategorized].\\n💬 Dinner for 150 EGP seems a bit on the higher side. Next time, you might want to explore more budget-friendly options or consider cooking at home to save some extra cash.'"
      ]
     },
     "execution_count": 43,
     "metadata": {},
     "output_type": "execute_result"
    }
   ],
   "source": [
    "user_input = \"Had dinner for 150 EGP last night\"\n",
    "llm_response = process_transaction_with_llm(user_input, user_id=\"027051a8-3887-4150-9cfb-a51efb9146b5\", supabase=supabase)\n",
    "print(llm_response)\n",
    "# Parse and save\n",
    "add_transaction_from_llm(llm_response, user_id=\"027051a8-3887-4150-9cfb-a51efb9146b5\", supabase=supabase)"
   ]
  },
  {
   "cell_type": "code",
   "execution_count": 44,
   "id": "682f0243",
   "metadata": {},
   "outputs": [
    {
     "name": "stdout",
     "output_type": "stream",
     "text": [
      "\n",
      "\n",
      "\n",
      "    DATE: 2025-05-10\n",
      "    INCOME: 150\n",
      "    CATEGORY: Freelance\n",
      "    DESCRIPTION: Got\n",
      "    FEEDBACK: That's great to see some extra income coming in! Keep up the good work on your freelance gigs.\n"
     ]
    },
    {
     "name": "stderr",
     "output_type": "stream",
     "text": [
      "C:\\Users\\Tony\\anaconda3\\lib\\site-packages\\tzlocal\\utils.py:39: UserWarning: Timezone offset does not match system offset: 7200 != 10800. Please, check your config files.\n",
      "  warnings.warn(msg)\n"
     ]
    },
    {
     "name": "stdout",
     "output_type": "stream",
     "text": [
      "✅ Added income transaction: Got, 150.0 EGP, date: 2025-05-10, category: Freelance.\n",
      "💬 That's great to see some extra income coming in! Keep up the good work on your freelance gigs.\n"
     ]
    }
   ],
   "source": [
    "user_input = \"got 150 EGP\"\n",
    "llm_response = process_transaction_with_llm(user_input, user_id=\"027051a8-3887-4150-9cfb-a51efb9146b5\", supabase=supabase)\n",
    "print(llm_response)\n",
    "# Parse and save\n",
    "result = add_transaction_from_llm(llm_response, user_id=\"027051a8-3887-4150-9cfb-a51efb9146b5\", supabase=supabase)\n",
    "print(result)"
   ]
  },
  {
   "cell_type": "code",
   "execution_count": 45,
   "id": "07d23068",
   "metadata": {},
   "outputs": [
    {
     "name": "stdout",
     "output_type": "stream",
     "text": [
      "\n",
      "\n",
      "\n",
      "    DATE: 2025-05-10\n",
      "    EXPENSE: \n",
      "    INCOME: \n",
      "    CATEGORY: \n",
      "    DESCRIPTION: Dinner\n",
      "    FEEDBACK: It looks like you had dinner today. If you'd like to keep track of your spending, it would be helpful to note the amount for better budgeting!\n",
      "❌ Cannot add transaction: missing information.\n"
     ]
    },
    {
     "name": "stderr",
     "output_type": "stream",
     "text": [
      "C:\\Users\\Tony\\anaconda3\\lib\\site-packages\\tzlocal\\utils.py:39: UserWarning: Timezone offset does not match system offset: 7200 != 10800. Please, check your config files.\n",
      "  warnings.warn(msg)\n"
     ]
    }
   ],
   "source": [
    "user_input = \"Dinner today\"\n",
    "llm_response = process_transaction_with_llm(user_input, user_id=\"027051a8-3887-4150-9cfb-a51efb9146b5\", supabase=supabase)\n",
    "print(llm_response)\n",
    "# Parse and save\n",
    "result = add_transaction_from_llm(llm_response, user_id=\"027051a8-3887-4150-9cfb-a51efb9146b5\", supabase=supabase)\n",
    "print(result)"
   ]
  },
  {
   "cell_type": "code",
   "execution_count": 46,
   "id": "4fd9fb6b",
   "metadata": {},
   "outputs": [
    {
     "name": "stdout",
     "output_type": "stream",
     "text": [
      " \n",
      "\n",
      "    DATE: 2025-05-10\n",
      "    EXPENSE: 50\n",
      "    INCOME: \n",
      "    CATEGORY: Uncategorized\n",
      "    DESCRIPTION: Transaction\n",
      "    FEEDBACK: You spent 50 EGP today. Without more details, it's hard to categorize, but it's always good to keep track of your spending!\n"
     ]
    },
    {
     "name": "stderr",
     "output_type": "stream",
     "text": [
      "C:\\Users\\Tony\\anaconda3\\lib\\site-packages\\tzlocal\\utils.py:39: UserWarning: Timezone offset does not match system offset: 7200 != 10800. Please, check your config files.\n",
      "  warnings.warn(msg)\n"
     ]
    },
    {
     "name": "stdout",
     "output_type": "stream",
     "text": [
      "✅ Added expense transaction: Transaction, 50.0 EGP, date: 2025-05-10, category: Uncategorized.\n",
      "💬 You spent 50 EGP today. Without more details, it's hard to categorize, but it's always good to keep track of your spending!\n"
     ]
    }
   ],
   "source": [
    "user_input = \"50 today\"\n",
    "llm_response = process_transaction_with_llm(user_input, user_id=\"027051a8-3887-4150-9cfb-a51efb9146b5\", supabase=supabase)\n",
    "print(llm_response)\n",
    "# Parse and save\n",
    "result = add_transaction_from_llm(llm_response, user_id=\"027051a8-3887-4150-9cfb-a51efb9146b5\", supabase=supabase)\n",
    "print(result)"
   ]
  },
  {
   "cell_type": "code",
   "execution_count": 47,
   "id": "af479c51",
   "metadata": {},
   "outputs": [
    {
     "name": "stdout",
     "output_type": "stream",
     "text": [
      "\n",
      "\n",
      "\n",
      "DATE: 2025-05-10\n",
      "EXPENSE: 300\n",
      "CATEGORY: Groceries\n",
      "DESCRIPTION: Dibers\n",
      "FEEDBACK: Hmm, Dibers doesn’t seem like a typical grocery item. If it’s a special purchase, make sure it’s something you really need. Otherwise, consider more budget-friendly options next time!\n"
     ]
    },
    {
     "name": "stderr",
     "output_type": "stream",
     "text": [
      "C:\\Users\\Tony\\anaconda3\\lib\\site-packages\\tzlocal\\utils.py:39: UserWarning: Timezone offset does not match system offset: 7200 != 10800. Please, check your config files.\n",
      "  warnings.warn(msg)\n"
     ]
    },
    {
     "name": "stdout",
     "output_type": "stream",
     "text": [
      "✅ Added expense transaction: Dibers, 300.0 EGP, date: 2025-05-10, category: Groceries.\n",
      "💬 Hmm, Dibers doesn’t seem like a typical grocery item. If it’s a special purchase, make sure it’s something you really need. Otherwise, consider more budget-friendly options next time!\n"
     ]
    }
   ],
   "source": [
    "user_input = \"Dibers 300\"\n",
    "llm_response = process_transaction_with_llm(user_input, user_id=\"027051a8-3887-4150-9cfb-a51efb9146b5\", supabase=supabase)\n",
    "print(llm_response)\n",
    "# Parse and save\n",
    "result = add_transaction_from_llm(llm_response, user_id=\"027051a8-3887-4150-9cfb-a51efb9146b5\", supabase=supabase)\n",
    "print(result)"
   ]
  },
  {
   "cell_type": "code",
   "execution_count": 48,
   "id": "71dc26b4",
   "metadata": {},
   "outputs": [
    {
     "name": "stdout",
     "output_type": "stream",
     "text": [
      "\n",
      "\n",
      "\n",
      "    DATE: 2025-05-10\n",
      "    EXPENSE: 300\n",
      "    CATEGORY: Kids\n",
      "    DESCRIPTION: Diapers\n",
      "    FEEDBACK: Diapers are a necessity for kids, so this expense is understandable. However, it might be worth checking if there are any bulk purchase options or discounts available to save on these recurring costs.\n"
     ]
    },
    {
     "name": "stderr",
     "output_type": "stream",
     "text": [
      "C:\\Users\\Tony\\anaconda3\\lib\\site-packages\\tzlocal\\utils.py:39: UserWarning: Timezone offset does not match system offset: 7200 != 10800. Please, check your config files.\n",
      "  warnings.warn(msg)\n"
     ]
    },
    {
     "name": "stdout",
     "output_type": "stream",
     "text": [
      "✅ Added expense transaction: Diapers, 300.0 EGP, date: 2025-05-10, category: Kids.\n",
      "💬 Diapers are a necessity for kids, so this expense is understandable. However, it might be worth checking if there are any bulk purchase options or discounts available to save on these recurring costs.\n"
     ]
    }
   ],
   "source": [
    "user_input = \"Diapers 300\"\n",
    "llm_response = process_transaction_with_llm(user_input, user_id=\"027051a8-3887-4150-9cfb-a51efb9146b5\", supabase=supabase)\n",
    "print(llm_response)\n",
    "# Parse and save\n",
    "result = add_transaction_from_llm(llm_response, user_id=\"027051a8-3887-4150-9cfb-a51efb9146b5\", supabase=supabase)\n",
    "print(result)"
   ]
  }
 ],
 "metadata": {
  "kernelspec": {
   "display_name": "Python 3 (ipykernel)",
   "language": "python",
   "name": "python3"
  },
  "language_info": {
   "codemirror_mode": {
    "name": "ipython",
    "version": 3
   },
   "file_extension": ".py",
   "mimetype": "text/x-python",
   "name": "python",
   "nbconvert_exporter": "python",
   "pygments_lexer": "ipython3",
   "version": "3.9.13"
  }
 },
 "nbformat": 4,
 "nbformat_minor": 5
}
