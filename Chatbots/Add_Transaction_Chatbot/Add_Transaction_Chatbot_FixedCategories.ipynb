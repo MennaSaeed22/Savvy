{
 "cells": [
  {
   "cell_type": "markdown",
   "id": "934c50c1",
   "metadata": {},
   "source": [
    "This notebook builds a smart finance assistant chatbot that leverages AI to help users track and manage their personal transactions. The chatbot extracts financial details from user input using a Language Model (LLM), categorizes income and expenses, and logs them into a database. It validates entries, and provides insightful feedback about spending habits. By combining natural language understanding with real-time database integration, this chatbot offers a seamless and intelligent way to automate personal finance management and budgeting."
   ]
  },
  {
   "cell_type": "markdown",
   "id": "4f909cf5",
   "metadata": {},
   "source": [
    "## 1- Import Libraries "
   ]
  },
  {
   "cell_type": "code",
   "execution_count": 42,
   "id": "679bf93f",
   "metadata": {},
   "outputs": [],
   "source": [
    "import os\n",
    "from langchain_fireworks import Fireworks\n",
    "from langchain.memory import ConversationBufferMemory\n",
    "from datetime import datetime\n",
    "from langchain.retrievers import EnsembleRetriever\n",
    "import re\n",
    "from dateparser import parse as date_parse\n",
    "from datetime import datetime\n",
    "from supabase import create_client, Client\n",
    "from dotenv import load_dotenv"
   ]
  },
  {
   "cell_type": "markdown",
   "id": "5b7abbaf",
   "metadata": {},
   "source": [
    "## 2- Set API key "
   ]
  },
  {
   "cell_type": "code",
   "execution_count": null,
   "id": "1cdff612",
   "metadata": {},
   "outputs": [],
   "source": [
    "# Load the .env file\n",
    "load_dotenv()\n",
    "\n",
    "# Access the variables\n",
    "api_key = os.getenv(\"API_KEY\")"
   ]
  },
  {
   "cell_type": "markdown",
   "id": "ff5c6e8f",
   "metadata": {},
   "source": [
    "## 3- Call LLM "
   ]
  },
  {
   "cell_type": "code",
   "execution_count": 44,
   "id": "b38b8309",
   "metadata": {},
   "outputs": [
    {
     "name": "stdout",
     "output_type": "stream",
     "text": [
      " My name is Antonio, I’m a musician from Lisbon and I have a passion for teaching. My academic education started in a classical music school in which I studied for 10 years, where the main focus was in flute, piano and other music related subjects such as theory, history or composition. After that I picked up the viola (viola is a different instrument from Viola. Viola as an instrument is a bit bigger than a violin, with a deeper and more muffled sound). After studying classical viola for a few years I found that my preferences in music style were leading me to other places. I spent a few years in the Conservatorium of Amsterdam learning and playing different styles of music, using the viola, violin, guitar, piano and singing, as well as experimenting with electronic music production and world music. I’ve been teaching classical piano, viola and violin for 7 years, where I have experienced teaching people of all ages (3 to 60 years old) and levels (beginner to Master level). I’m also familiar with teaching jazz and pop music. I’m specialized in playing and teaching the Viola, Violin and Piano but I also have experience in playing guitar, flute, bass and a few other more unusual instruments. I can also help you with Music Production/Recording/Mixing lessons. I can teach in English and Portuguese. One of the most important things for me in teaching is that the student feels motivated and that we are having fun with the process, focusing on playing the music that speaks to your heart. My way of working is adapted to each individual, taking advantage of your natural strengths while focusing on your weaker spots. I can teach you in many different ways, we can focus on classical repertoire, jazz, pop music, improvisation, music theory, and many more. The type of music that you’re interested in playing is very important to me. Right now I’m giving lessons only online through zoom, skype or any similar platform. Because of this, I’m trying to make the lessons as practical as possible, spending more time playing music together instead of repeating a scale many times alone, or simply talking about theory for the entire lesson. Of course, if you’re preparing for an audition or you want to perfect specific techniques, we could spend more time focusing in those aspects.\n",
      "\n",
      "Very nice teacher, with a lot of patience. He helps his students to achieve their goals, being always supportive.\n",
      "\n",
      "Great teacher! I have had the pleasure of learning from him and found the experience very enjoyable. He has the ability to explain things in a way that is easy to understand, even for beginners, and is always providing helpful feedback along the way. He has a very calm and patient demeanor, which creates a comfortable learning environment. Overall, highly recommend.\n",
      "\n",
      "Very friendly and calming teacher. His approach gives room to explore and try. Very experienced in improvising and open for ideas\n",
      "\n",
      "- Instructor since June 2019\n",
      "- 1 repeat student\n",
      "- Linkedin connected\n"
     ]
    }
   ],
   "source": [
    "llm = Fireworks(api_key=api_key, model=\"accounts/fireworks/models/deepseek-v3\", temperature=1.0, max_tokens=1024)\n",
    "response = llm.invoke(\"Hello, how are you?\")\n",
    "print(response)"
   ]
  },
  {
   "cell_type": "markdown",
   "id": "b5e47f0a",
   "metadata": {},
   "source": [
    "## 4- Create memory"
   ]
  },
  {
   "cell_type": "code",
   "execution_count": 45,
   "id": "52f3e263",
   "metadata": {},
   "outputs": [],
   "source": [
    "#  Initialize memory\n",
    "memory = ConversationBufferMemory(memory_key=\"chat_history\", return_messages=True)\n"
   ]
  },
  {
   "cell_type": "markdown",
   "id": "674db5f9",
   "metadata": {},
   "source": [
    "## 5- Fetch database"
   ]
  },
  {
   "cell_type": "code",
   "execution_count": null,
   "id": "8705865a",
   "metadata": {
    "scrolled": true
   },
   "outputs": [],
   "source": [
    "# Load .env\n",
    "load_dotenv()\n",
    "url = os.getenv(\"SUPABASE_URL\")\n",
    "key = os.getenv(\"SUPABASE_KEY\")\n",
    "\n",
    "# Connect to Supabase\n",
    "supabase: Client = create_client(url, key)"
   ]
  },
  {
   "cell_type": "code",
   "execution_count": 47,
   "id": "94fdfd4b",
   "metadata": {},
   "outputs": [
    {
     "name": "stdout",
     "output_type": "stream",
     "text": [
      "[{'transaction_id': '3683c4fc-018d-42ee-803b-69845dd1f0cd', 'user_id': '027051a8-3887-4150-9cfb-a51efb9146b5', 'income': 7000, 'expenses': 0, 'data': 'Monthly salary deposit', 'category_id': '8867173b-22a3-408e-a2b8-9ee2f0bc70b2', 'description': 'August salary', 'created_at': '2025-04-21T10:51:09.833846'}, {'transaction_id': '2f662481-3b4e-47e3-aeec-f0ca06c7c7fb', 'user_id': 'eb242352-2899-4717-955c-7247db8a40ef', 'income': 0, 'expenses': 150.75, 'data': None, 'category_id': '813c1667-760d-46c2-8226-dc139cc8c86c', 'description': 'Bought groceries from Carrefour', 'created_at': '2025-05-07T09:50:25.344434'}, {'transaction_id': 'bd7bd415-064b-4d9c-a0c3-4942e5fd1a43', 'user_id': 'eb242352-2899-4717-955c-7247db8a40ef', 'income': 0, 'expenses': 250, 'data': None, 'category_id': '114ed927-ca6b-47df-bf3d-689ff3b8bbd9', 'description': 'Weekly groceries at Carrefour', 'created_at': '2025-05-07T09:53:27.097738'}, {'transaction_id': 'f7441b54-0fe6-4772-ad92-dcf1c64c44cd', 'user_id': 'eb242352-2899-4717-955c-7247db8a40ef', 'income': 0, 'expenses': 60, 'data': None, 'category_id': '4c056838-9227-4b3d-9fcd-ac117f5a95cb', 'description': 'Electricity bill payment', 'created_at': '2025-05-07T09:53:27.097738'}, {'transaction_id': '70b342a2-6a21-44d2-8185-0e9136331ddc', 'user_id': 'eb242352-2899-4717-955c-7247db8a40ef', 'income': 0, 'expenses': 100, 'data': None, 'category_id': '755da918-2e9e-436a-b38a-2fbad36e9c94', 'description': 'Snacks and small items', 'created_at': '2025-05-07T09:53:27.097738'}, {'transaction_id': '85aa237a-4c00-47e7-94c9-4b57facb5a1e', 'user_id': '027051a8-3887-4150-9cfb-a51efb9146b5', 'income': 0, 'expenses': 100, 'data': None, 'category_id': '337bf3ed-8f2e-4647-ac50-30f327316d07', 'description': 'Grocery shopping', 'created_at': '2025-05-07T00:00:00'}, {'transaction_id': '7306cb6a-af53-4260-b244-d336dc300f2e', 'user_id': '027051a8-3887-4150-9cfb-a51efb9146b5', 'income': 0, 'expenses': 200, 'data': None, 'category_id': '337bf3ed-8f2e-4647-ac50-30f327316d07', 'description': None, 'created_at': '2025-05-07T00:00:00'}, {'transaction_id': '0ddeab0c-ae76-474f-a78f-ab89133bd6fb', 'user_id': '027051a8-3887-4150-9cfb-a51efb9146b5', 'income': 0, 'expenses': 200, 'data': None, 'category_id': '337bf3ed-8f2e-4647-ac50-30f327316d07', 'description': None, 'created_at': '2025-05-07T00:00:00'}, {'transaction_id': 'e4c4211c-de2a-4134-aa4a-1309c69c6c03', 'user_id': '027051a8-3887-4150-9cfb-a51efb9146b5', 'income': 0, 'expenses': 150, 'data': None, 'category_id': '337bf3ed-8f2e-4647-ac50-30f327316d07', 'description': None, 'created_at': '2025-05-07T00:00:00'}, {'transaction_id': 'ff4b370f-5038-41f2-af74-cd6626b5c6e3', 'user_id': '027051a8-3887-4150-9cfb-a51efb9146b5', 'income': 8000, 'expenses': 0, 'data': None, 'category_id': 'a8a017fc-e86f-4c23-9455-4f8db846c59b', 'description': 'salary', 'created_at': '2025-05-10T00:00:00'}, {'transaction_id': '2b6163a6-eb99-44fb-aecd-9c563506d615', 'user_id': '027051a8-3887-4150-9cfb-a51efb9146b5', 'income': 8000, 'expenses': 0, 'data': None, 'category_id': None, 'description': 'Received salary FEEDBACK: That’s great news! A steady income like this is a solid foundation for financial stability. Keep up the good work!', 'created_at': '2025-05-10T00:00:00'}, {'transaction_id': 'e7b6f674-aec0-4c27-9513-03918296292a', 'user_id': '027051a8-3887-4150-9cfb-a51efb9146b5', 'income': 0, 'expenses': 150, 'data': None, 'category_id': None, 'description': 'dinner', 'created_at': '2025-05-09T00:00:00'}, {'transaction_id': '0f97bd76-77a8-4a9e-ba15-50328e5c4691', 'user_id': '027051a8-3887-4150-9cfb-a51efb9146b5', 'income': 8000, 'expenses': 0, 'data': None, 'category_id': 'a8a017fc-e86f-4c23-9455-4f8db846c59b', 'description': 'salary', 'created_at': '2025-05-10T00:00:00'}, {'transaction_id': '175ea50b-4dac-44fb-9927-30332dae3cfc', 'user_id': '027051a8-3887-4150-9cfb-a51efb9146b5', 'income': 0, 'expenses': 150, 'data': None, 'category_id': None, 'description': 'dinner', 'created_at': '2025-05-09T00:00:00'}]\n"
     ]
    }
   ],
   "source": [
    "# Fetch data from the \"Transaction\" table\n",
    "response = supabase.table(\"transactions\").select(\"*\").execute()\n",
    "data = response.data\n",
    "print(data)"
   ]
  },
  {
   "cell_type": "code",
   "execution_count": 48,
   "id": "3588ec34",
   "metadata": {},
   "outputs": [
    {
     "name": "stdout",
     "output_type": "stream",
     "text": [
      "[{'category_id': '337bf3ed-8f2e-4647-ac50-30f327316d07', 'category_type': 'Food', 'category_name': 'Caffe', 'user_id': None}, {'category_id': 'c45b8dff-e08f-4c36-b30c-68ae7026b2f8', 'category_type': 'Transportation', 'category_name': 'taxi', 'user_id': None}, {'category_id': '3782b789-59fa-45b1-a214-c29e21a2f0e3', 'category_type': 'transportation', 'category_name': 'fuel', 'user_id': None}, {'category_id': '8867173b-22a3-408e-a2b8-9ee2f0bc70b2', 'category_type': 'Expense', 'category_name': 'Groceries', 'user_id': '027051a8-3887-4150-9cfb-a51efb9146b5'}, {'category_id': 'a8a017fc-e86f-4c23-9455-4f8db846c59b', 'category_type': 'Income', 'category_name': 'Salary', 'user_id': '47b66d92-1ea1-4344-af56-0771ed917456'}, {'category_id': 'af91ae83-0d65-4bd1-880f-747f3ebbaf35', 'category_type': 'Expense', 'category_name': 'Utilities', 'user_id': '99eed9c3-78dc-4925-b599-b02332524f78'}, {'category_id': '813c1667-760d-46c2-8226-dc139cc8c86c', 'category_type': 'expense', 'category_name': 'Groceries', 'user_id': 'eb242352-2899-4717-955c-7247db8a40ef'}, {'category_id': '114ed927-ca6b-47df-bf3d-689ff3b8bbd9', 'category_type': 'expense', 'category_name': 'Groceries', 'user_id': 'eb242352-2899-4717-955c-7247db8a40ef'}, {'category_id': '4c056838-9227-4b3d-9fcd-ac117f5a95cb', 'category_type': 'income', 'category_name': 'Salary', 'user_id': 'eb242352-2899-4717-955c-7247db8a40ef'}, {'category_id': '755da918-2e9e-436a-b38a-2fbad36e9c94', 'category_type': 'expense', 'category_name': 'Utilities', 'user_id': 'eb242352-2899-4717-955c-7247db8a40ef'}]\n"
     ]
    }
   ],
   "source": [
    "# Fetch data from the \"categories\" table\n",
    "response = supabase.table(\"categories\").select(\"*\").execute()\n",
    "data = response.data\n",
    "print(data)"
   ]
  },
  {
   "cell_type": "markdown",
   "id": "b242987c",
   "metadata": {},
   "source": [
    "## 6- Prompt"
   ]
  },
  {
   "cell_type": "code",
   "execution_count": 49,
   "id": "cb4bb8ae",
   "metadata": {},
   "outputs": [],
   "source": [
    "def process_transaction_with_llm(text):\n",
    "    # Prompt for extracting transaction details\n",
    "    transaction_prompt = \"\"\"\n",
    "    Extract transaction details from the following text and classify the amount as either income or expense.\n",
    "    If it's an expense, put amount in EXPENSE; if it’s income, put amount in INCOME. Extract date (handle relative dates like 'yesterday'), a description, and the category.\n",
    "    If a specific date is not mentioned, assume today's date. If you cant classify the amount as either income or expense,\n",
    "    assume it is expense and keep it uncategorized. Provide a natural response about the spending.\n",
    "\n",
    "    Text: {input_text}\n",
    "\n",
    "    Current date: {current_date}\n",
    "\n",
    "    Format your response as follows:\n",
    "    DATE: [Extract the date, handle relative dates like 'this morning', 'yesterday', 'last week', etc.]\n",
    "    EXPENSE: [amount, if spending; leave blank if not]\n",
    "    INCOME: [amount, if income; leave blank if not]\n",
    "    CATEGORY: [Classify into one of if expense: Food, Health, Transportation, Entertainment, Fashion, Lifestyle, Education\n",
    "               Classify into one of if income: Salary, Part-time, Investments, Bonus, Refunds]\n",
    "    Description: [one or two word description of the transaction]\n",
    "    FEEDBACK: [Provide a natural, conversational response about the spending. Consider:\n",
    "    - If it's a good deal or expensive for that category\n",
    "    - Suggest money-saving tips if relevant\n",
    "    - Compliment good financial decisions\n",
    "    - Express concern for unusually high spending\n",
    "    - Comment on the timing or necessity of the purchase\n",
    "    Make it sound natural and varied.]\n",
    "\n",
    "    Example:\n",
    "    Input: \"I got today 2,000 EGP from upwork\"\n",
    "    DATE: 2024-01-30\n",
    "    INCOME: 2000\n",
    "    CATEGORY: Part-time\n",
    "    DESCRIPTION: upwork\n",
    "    FEEDBACK: That’s wonderful—congrats on your part-time job!\n",
    "    \n",
    "    Input: \"Bought lunch for 50 EGP yesterday\"\n",
    "    DATE: 2024-01-29\n",
    "    EXPENSE: 50\n",
    "    CATEGORY: Food\n",
    "    DESCRIPTION: lunch\n",
    "    FEEDBACK: That's a reasonable amount for lunch! If you're looking to save more, you might consider bringing lunch from home occasionally.\n",
    "    \"\"\"\n",
    "\n",
    "    # Prepare the prompt with current date\n",
    "    current_date = datetime.now().strftime('%Y-%m-%d')\n",
    "    formatted_prompt = transaction_prompt.format(\n",
    "        input_text=text,\n",
    "        current_date=current_date\n",
    "    )\n",
    "\n",
    "    # Get response from LLM\n",
    "    response = llm.invoke(formatted_prompt)\n",
    "    \n",
    "    # Parse the response (you might need to adjust this based on your LLM's output format)\n",
    "    return response\n",
    "\n"
   ]
  },
  {
   "cell_type": "code",
   "execution_count": 50,
   "id": "89dc02de",
   "metadata": {
    "scrolled": true
   },
   "outputs": [
    {
     "name": "stdout",
     "output_type": "stream",
     "text": [
      " \n",
      "\n",
      "    DATE: 2025-05-09\n",
      "    EXPENSE: 150\n",
      "    CATEGORY: Food\n",
      "    DESCRIPTION: dinner\n",
      "    FEEDBACK: 150 EGP for dinner is a decent amount, but it seems like you had a good time! If you're dining out frequently, you could explore more budget-friendly options to save some money.\n"
     ]
    }
   ],
   "source": [
    "print(process_transaction_with_llm(\"Had dinner for 150 EGP last night\"))\n"
   ]
  },
  {
   "cell_type": "code",
   "execution_count": 51,
   "id": "b7f61b49",
   "metadata": {},
   "outputs": [
    {
     "name": "stdout",
     "output_type": "stream",
     "text": [
      "\n"
     ]
    }
   ],
   "source": [
    "print(process_transaction_with_llm(\"got my salary 6000\"))\n"
   ]
  },
  {
   "cell_type": "markdown",
   "id": "23632cfd",
   "metadata": {},
   "source": [
    "## 7- Parse response"
   ]
  },
  {
   "cell_type": "code",
   "execution_count": 55,
   "id": "c3db0dc1",
   "metadata": {},
   "outputs": [],
   "source": [
    "import re\n",
    "from datetime import datetime\n",
    "from dateparser import parse as date_parse\n",
    "\n",
    "def parse_llm_response(response):\n",
    "    # Extract date (default to today if not found or \"Unknown\")\n",
    "    date_match = re.search(r\"DATE:\\s*(.*)\", response)\n",
    "    date_str = date_match.group(1).strip() if date_match else None\n",
    "    if not date_str or date_str.lower() == \"unknown\":\n",
    "        date_obj = datetime.now()\n",
    "    else:\n",
    "        date_obj = date_parse(date_str)\n",
    "        if not date_obj:\n",
    "            date_obj = datetime.now()\n",
    "    date_iso = date_obj.strftime(\"%Y-%m-%d\")\n",
    "\n",
    "    # Extract EXPENSE and INCOME\n",
    "    expense_match = re.search(r\"EXPENSE:\\s*([\\d.]+)\", response, re.IGNORECASE)\n",
    "    income_match = re.search(r\"INCOME:\\s*([\\d.]+)\", response, re.IGNORECASE)\n",
    "    expense = float(expense_match.group(1)) if expense_match else 0.0\n",
    "    income = float(income_match.group(1)) if income_match else 0.0\n",
    "\n",
    "    # Extract DESCRIPTION\n",
    "    desc_match = re.search(r\"DESCRIPTION:\\s*(.*)\", response, re.IGNORECASE)\n",
    "    description = desc_match.group(1).strip() if desc_match and desc_match.group(1).strip() else None\n",
    "\n",
    "    # Extract CATEGORY (optional)\n",
    "    category_match = re.search(r\"CATEGORY:\\s*(.*)\", response)\n",
    "    category = category_match.group(1).strip() if category_match and category_match.group(1).strip() else None\n",
    "\n",
    "    # Extract FEEDBACK (optional)\n",
    "    feedback_match = re.search(r\"FEEDBACK:\\s*(.*)\", response)\n",
    "    feedback = feedback_match.group(1).strip() if feedback_match else \"\"\n",
    "\n",
    "    return {\n",
    "        \"date\": date_iso,\n",
    "        \"expense\": expense,\n",
    "        \"income\": income,\n",
    "        \"category\": category,\n",
    "        \"description\": description,\n",
    "        \"feedback\": feedback\n",
    "    }\n",
    "\n"
   ]
  },
  {
   "cell_type": "markdown",
   "id": "e0a54313",
   "metadata": {},
   "source": [
    "## 8- Get category_id"
   ]
  },
  {
   "cell_type": "code",
   "execution_count": 56,
   "id": "af1b929e",
   "metadata": {},
   "outputs": [],
   "source": [
    "def get_category_id(category_name: str, supabase):\n",
    "    # Returns None if category_name is None or not found\n",
    "    if not category_name:\n",
    "        return None\n",
    "    cat_response = supabase.table(\"categories\").select(\"category_id\").eq(\"category_name\", category_name).execute()\n",
    "    cat_data = cat_response.data\n",
    "    if cat_data:\n",
    "        return cat_data[0][\"category_id\"]\n",
    "    else:\n",
    "        return None\n"
   ]
  },
  {
   "cell_type": "markdown",
   "id": "c1d86a53",
   "metadata": {},
   "source": [
    "## 9- Add transaction into DB"
   ]
  },
  {
   "cell_type": "code",
   "execution_count": 57,
   "id": "471b646d",
   "metadata": {},
   "outputs": [],
   "source": [
    "def add_transaction_from_llm(llm_response, user_id, supabase):\n",
    "    extracted = parse_llm_response(llm_response)\n",
    "    description_valid = extracted[\"description\"] not in (None, \"\", \"No Description\")\n",
    "    amount_valid = (extracted[\"expense\"] > 0 or extracted[\"income\"] > 0)\n",
    "\n",
    "    if not description_valid or not amount_valid:\n",
    "        return \"❌ Cannot add transaction: missing information.\"\n",
    "\n",
    "    category_id = get_category_id(extracted[\"category\"], supabase)\n",
    "    new_transaction = {\n",
    "        \"income\": extracted[\"income\"],\n",
    "        \"expenses\": extracted[\"expense\"],\n",
    "        \"description\": extracted[\"description\"],\n",
    "        \"created_at\": extracted[\"date\"],\n",
    "        \"user_id\": user_id,\n",
    "        \"category_id\": category_id\n",
    "    }\n",
    "    response = supabase.table(\"transactions\").insert(new_transaction).execute()\n",
    "\n",
    "    # Build friendly message for user\n",
    "    # Compose a string stating what was added, and echo the LLM's feedback\n",
    "    tx_type = \"income\" if extracted[\"income\"] > 0 else \"expense\"\n",
    "    tx_value = extracted[\"income\"] if extracted[\"income\"] > 0 else extracted[\"expense\"]\n",
    "\n",
    "    user_reply = (\n",
    "        f\"✅ Added {tx_type} transaction: {extracted['description']}, \"\n",
    "        f\"{tx_value} EGP, \"\n",
    "        f\"date: {extracted['date']}\"\n",
    "    )\n",
    "    if extracted[\"category\"]:\n",
    "        user_reply += f\", category: {extracted['category']}.\"\n",
    "    else:\n",
    "        user_reply += \".\"\n",
    "    if extracted[\"feedback\"]:\n",
    "        user_reply += f\"\\n💬 {extracted['feedback']}\"\n",
    "    return user_reply"
   ]
  },
  {
   "cell_type": "markdown",
   "id": "826c960d",
   "metadata": {},
   "source": [
    "## 10- Test"
   ]
  },
  {
   "cell_type": "code",
   "execution_count": 58,
   "id": "78eb22b4",
   "metadata": {},
   "outputs": [
    {
     "name": "stdout",
     "output_type": "stream",
     "text": [
      " \n",
      "\n",
      "    DATE: 2025-05-10  \n",
      "    INCOME: 8000  \n",
      "    CATEGORY: Salary  \n",
      "    DESCRIPTION: salary  \n",
      "    FEEDBACK: That’s great—your salary has been credited! Make sure to plan your finances wisely to meet your goals.\n"
     ]
    },
    {
     "name": "stderr",
     "output_type": "stream",
     "text": [
      "C:\\Users\\Tony\\anaconda3\\lib\\site-packages\\tzlocal\\utils.py:39: UserWarning: Timezone offset does not match system offset: 7200 != 10800. Please, check your config files.\n",
      "  warnings.warn(msg)\n"
     ]
    },
    {
     "name": "stdout",
     "output_type": "stream",
     "text": [
      "✅ Added income transaction: salary, 8000.0 EGP, date: 2025-05-10, category: Salary.\n",
      "💬 That’s great—your salary has been credited! Make sure to plan your finances wisely to meet your goals.\n"
     ]
    }
   ],
   "source": [
    "user_input = \"Received salary 8000 EGP today\"\n",
    "llm_response = process_transaction_with_llm(user_input) \n",
    "print(llm_response)\n",
    "result = add_transaction_from_llm(llm_response, user_id=\"027051a8-3887-4150-9cfb-a51efb9146b5\", supabase=supabase)\n",
    "print(result)"
   ]
  },
  {
   "cell_type": "code",
   "execution_count": 59,
   "id": "3cfc5251",
   "metadata": {},
   "outputs": [
    {
     "name": "stdout",
     "output_type": "stream",
     "text": [
      " DATE: 2025-05-09\n",
      "     EXPENSE: 150\n",
      "     CATEGORY: Food\n",
      "     DESCRIPTION: dinner\n",
      "     FEEDBACK: Dining out can be a treat, but 150 EGP for dinner seems a bit high. Consider cooking at home more often to save money while still enjoying a good meal.\n"
     ]
    },
    {
     "name": "stderr",
     "output_type": "stream",
     "text": [
      "C:\\Users\\Tony\\anaconda3\\lib\\site-packages\\tzlocal\\utils.py:39: UserWarning: Timezone offset does not match system offset: 7200 != 10800. Please, check your config files.\n",
      "  warnings.warn(msg)\n"
     ]
    },
    {
     "data": {
      "text/plain": [
       "'✅ Added expense transaction: dinner, 150.0 EGP, date: 2025-05-09, category: Food.\\n💬 Dining out can be a treat, but 150 EGP for dinner seems a bit high. Consider cooking at home more often to save money while still enjoying a good meal.'"
      ]
     },
     "execution_count": 59,
     "metadata": {},
     "output_type": "execute_result"
    }
   ],
   "source": [
    "user_input = \"Had dinner for 150 EGP last night\"\n",
    "llm_response = process_transaction_with_llm(user_input)\n",
    "print(llm_response)\n",
    "# Parse and save\n",
    "add_transaction_from_llm(llm_response, user_id=\"027051a8-3887-4150-9cfb-a51efb9146b5\", supabase=supabase)"
   ]
  },
  {
   "cell_type": "code",
   "execution_count": 61,
   "id": "e475deed",
   "metadata": {},
   "outputs": [
    {
     "name": "stdout",
     "output_type": "stream",
     "text": [
      "\n",
      "\n",
      "\n",
      "\n",
      "    DATE: 2025-05-10\n",
      "    INCOME: 150\n",
      "    CATEGORY: Uncategorized\n",
      "    DESCRIPTION: got\n",
      "    FEEDBACK: You received 150 EGP—great! Use it wisely or consider saving it for future needs.\n"
     ]
    },
    {
     "name": "stderr",
     "output_type": "stream",
     "text": [
      "C:\\Users\\Tony\\anaconda3\\lib\\site-packages\\tzlocal\\utils.py:39: UserWarning: Timezone offset does not match system offset: 7200 != 10800. Please, check your config files.\n",
      "  warnings.warn(msg)\n"
     ]
    },
    {
     "name": "stdout",
     "output_type": "stream",
     "text": [
      "✅ Added income transaction: got, 150.0 EGP, date: 2025-05-10, category: Uncategorized.\n",
      "💬 You received 150 EGP—great! Use it wisely or consider saving it for future needs.\n"
     ]
    }
   ],
   "source": [
    "user_input = \"got 150 EGP\"\n",
    "llm_response = process_transaction_with_llm(user_input)\n",
    "print(llm_response)\n",
    "# Parse and save\n",
    "result = add_transaction_from_llm(llm_response, user_id=\"027051a8-3887-4150-9cfb-a51efb9146b5\", supabase=supabase)\n",
    "print(result)"
   ]
  },
  {
   "cell_type": "code",
   "execution_count": 62,
   "id": "ca5b0942",
   "metadata": {},
   "outputs": [
    {
     "name": "stdout",
     "output_type": "stream",
     "text": [
      "\n",
      "\n",
      "\n",
      "    DATE: 2025-05-10  \n",
      "    EXPENSE:  \n",
      "    CATEGORY: Food  \n",
      "    DESCRIPTION: Dinner  \n",
      "    FEEDBACK: Dinner is always a great way to end the day. If you're trying to save, you might consider cooking at home sometimes—it’s often healthier and more cost-effective. Enjoy your meal!\n",
      "❌ Cannot add transaction: missing amount and/or description.\n"
     ]
    },
    {
     "name": "stderr",
     "output_type": "stream",
     "text": [
      "C:\\Users\\Tony\\anaconda3\\lib\\site-packages\\tzlocal\\utils.py:39: UserWarning: Timezone offset does not match system offset: 7200 != 10800. Please, check your config files.\n",
      "  warnings.warn(msg)\n"
     ]
    }
   ],
   "source": [
    "user_input = \"Dinner today\"\n",
    "llm_response = process_transaction_with_llm(user_input)\n",
    "print(llm_response)\n",
    "# Parse and save\n",
    "result = add_transaction_from_llm(llm_response, user_id=\"027051a8-3887-4150-9cfb-a51efb9146b5\", supabase=supabase)\n",
    "print(result)"
   ]
  },
  {
   "cell_type": "code",
   "execution_count": 63,
   "id": "16905a77",
   "metadata": {},
   "outputs": [
    {
     "name": "stdout",
     "output_type": "stream",
     "text": [
      " \n",
      "\n",
      "    DATE: 2025-05-10\n",
      "    EXPENSE: 50\n",
      "    CATEGORY: Uncategorized\n",
      "    DESCRIPTION: today\n",
      "    FEEDBACK: Hmm, I’m not entirely sure what this 50 was for. It’s always a good idea to keep track of your spending to better understand where your money goes.\n"
     ]
    },
    {
     "name": "stderr",
     "output_type": "stream",
     "text": [
      "C:\\Users\\Tony\\anaconda3\\lib\\site-packages\\tzlocal\\utils.py:39: UserWarning: Timezone offset does not match system offset: 7200 != 10800. Please, check your config files.\n",
      "  warnings.warn(msg)\n"
     ]
    },
    {
     "name": "stdout",
     "output_type": "stream",
     "text": [
      "✅ Added expense transaction: today, 50.0 EGP, date: 2025-05-10, category: Uncategorized.\n",
      "💬 Hmm, I’m not entirely sure what this 50 was for. It’s always a good idea to keep track of your spending to better understand where your money goes.\n"
     ]
    }
   ],
   "source": [
    "user_input = \"50 today\"\n",
    "llm_response = process_transaction_with_llm(user_input)\n",
    "print(llm_response)\n",
    "# Parse and save\n",
    "result = add_transaction_from_llm(llm_response, user_id=\"027051a8-3887-4150-9cfb-a51efb9146b5\", supabase=supabase)\n",
    "print(result)"
   ]
  }
 ],
 "metadata": {
  "kernelspec": {
   "display_name": "Python 3",
   "language": "python",
   "name": "python3"
  },
  "language_info": {
   "codemirror_mode": {
    "name": "ipython",
    "version": 3
   },
   "file_extension": ".py",
   "mimetype": "text/x-python",
   "name": "python",
   "nbconvert_exporter": "python",
   "pygments_lexer": "ipython3",
   "version": "3.11.5"
  }
 },
 "nbformat": 4,
 "nbformat_minor": 5
}
