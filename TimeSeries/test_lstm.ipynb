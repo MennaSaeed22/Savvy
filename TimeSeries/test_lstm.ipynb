{
 "cells": [
  {
   "cell_type": "code",
   "execution_count": 1,
   "id": "9abf8d08",
   "metadata": {},
   "outputs": [
    {
     "name": "stdout",
     "output_type": "stream",
     "text": [
      "WARNING:tensorflow:From c:\\Users\\menna\\AppData\\Local\\Programs\\Python\\Python311\\Lib\\site-packages\\keras\\src\\losses.py:2976: The name tf.losses.sparse_softmax_cross_entropy is deprecated. Please use tf.compat.v1.losses.sparse_softmax_cross_entropy instead.\n",
      "\n"
     ]
    }
   ],
   "source": [
    "import pandas as pd\n",
    "import numpy as np\n",
    "from supabase import create_client, Client\n",
    "import joblib\n",
    "from tensorflow.keras.models import load_model # type: ignore\n",
    "from datetime import datetime"
   ]
  },
  {
   "cell_type": "code",
   "execution_count": null,
   "id": "79985531",
   "metadata": {},
   "outputs": [],
   "source": [
    "import os\n",
    "from dotenv import load_dotenv\n",
    "from supabase import create_client\n",
    "\n",
    "# Load environment variables\n",
    "load_dotenv()\n",
    "\n",
    "# Read Supabase credentials from .env\n",
    "url = os.getenv(\"SUPABASE_URL\")\n",
    "key = os.getenv(\"SUPABASE_KEY\")\n",
    "\n",
    "# Create Supabase client\n",
    "supabase = create_client(url, key)"
   ]
  },
  {
   "cell_type": "code",
   "execution_count": 3,
   "id": "0ff99aad",
   "metadata": {},
   "outputs": [],
   "source": [
    "def fetch_monthly_expense_features(user_id):\n",
    "    response = (\n",
    "        supabase\n",
    "        .from_(\"transactions\")\n",
    "        .select(\"category_id, amount, created_at\")\n",
    "        .eq(\"user_id\", user_id)\n",
    "        .eq(\"transaction_type\", \"Expense\")\n",
    "        .order(\"created_at\")\n",
    "        .execute()\n",
    "    )\n",
    "    data = response.data if response.data else []\n",
    "    if not data:\n",
    "        raise Exception(\"No expense transactions found for this user\")\n",
    "\n",
    "    df = pd.DataFrame(data)\n",
    "    df['created_at'] = pd.to_datetime(df['created_at']).dt.to_period('M').dt.to_timestamp()\n",
    "\n",
    "    categories_resp = supabase.from_(\"categories\").select(\"category_id, category_name\").execute()\n",
    "    categories_data = categories_resp.data if categories_resp.data else []\n",
    "    if not categories_data:\n",
    "        raise Exception(\"Failed to fetch categories\")\n",
    "\n",
    "    categories_df = pd.DataFrame(categories_data)\n",
    "    df = df.merge(categories_df, on=\"category_id\", how=\"left\")\n",
    "    df = df.dropna(subset=['category_name'])\n",
    "\n",
    "    monthly_expenses = (\n",
    "        df.groupby(['created_at', 'category_name'])['amount']\n",
    "        .sum()\n",
    "        .unstack(fill_value=0)\n",
    "        .sort_index()\n",
    "    )\n",
    "\n",
    "    expected_features = [\"Education\", \"Entertainment\", \"Fashion\", \"Food\", \"Lifestyle\", \"Transportation\", \"Health\"]\n",
    "    feature_matrix = pd.DataFrame(index=monthly_expenses.index)\n",
    "    for feature in expected_features:\n",
    "        feature_matrix[feature] = monthly_expenses.get(feature, 0)\n",
    "\n",
    "    feature_matrix['Expenses'] = monthly_expenses.sum(axis=1)\n",
    "    return feature_matrix.reset_index()"
   ]
  },
  {
   "cell_type": "code",
   "execution_count": 4,
   "id": "11d7869d",
   "metadata": {},
   "outputs": [
    {
     "name": "stderr",
     "output_type": "stream",
     "text": [
      "C:\\Users\\menna\\AppData\\Local\\Temp\\ipykernel_2780\\81130755.py:16: UserWarning: Converting to PeriodArray/Index representation will drop timezone information.\n",
      "  df['created_at'] = pd.to_datetime(df['created_at']).dt.to_period('M').dt.to_timestamp()\n"
     ]
    },
    {
     "name": "stdout",
     "output_type": "stream",
     "text": [
      "WARNING:tensorflow:From c:\\Users\\menna\\AppData\\Local\\Programs\\Python\\Python311\\Lib\\site-packages\\keras\\src\\backend.py:1398: The name tf.executing_eagerly_outside_functions is deprecated. Please use tf.compat.v1.executing_eagerly_outside_functions instead.\n",
      "\n",
      "Past 3 months Expenses:\n",
      "2025-04: 2811.40\n",
      "2025-05: 2321.22\n",
      "2025-06: 912.82\n",
      "1/1 [==============================] - 1s 1s/step\n",
      "\n",
      "Predicted Expense for next month (2025-07): 1709.76\n"
     ]
    }
   ],
   "source": [
    "def predict_next_month_expense(user_id):\n",
    "    # Fetch monthly features\n",
    "    feature_matrix = fetch_monthly_expense_features(user_id)\n",
    "    \n",
    "    if len(feature_matrix) < 3:\n",
    "        raise ValueError(\"Not enough data: at least 3 months of expense features are required.\")\n",
    "    \n",
    "    scaler = joblib.load('scaler.save')\n",
    "    model = load_model('lstm.h5')\n",
    "    \n",
    "    feature_columns = [\"Education\", \"Entertainment\", \"Fashion\", \"Food\", \"Lifestyle\", \"Transportation\", \"Health\"]\n",
    "    \n",
    "    # Use last 3 months of features\n",
    "    last_3_months = feature_matrix.tail(3)\n",
    "    \n",
    "    # Print past 3 months expenses\n",
    "    print(\"Past 3 months Expenses:\")\n",
    "    for date, expense in zip(last_3_months['created_at'], last_3_months['Expenses']):\n",
    "        print(f\"{date.strftime('%Y-%m')}: {expense:.2f}\")\n",
    "    \n",
    "    # Scale features (exclude 'Expenses' and date)\n",
    "    scaled_features = scaler.transform(last_3_months[feature_columns])\n",
    "    \n",
    "    # Prepare input shape (1, 3, 7)\n",
    "    model_input = np.expand_dims(scaled_features, axis=0)\n",
    "    \n",
    "    # Predict next month expense\n",
    "    predicted_expense = model.predict(model_input)[0, 0]\n",
    "    \n",
    "    # Calculate next month date (last date + 1 month)\n",
    "    last_date = last_3_months['created_at'].max()\n",
    "    next_month_date = (last_date + pd.offsets.MonthBegin(1))\n",
    "    \n",
    "    print(f\"\\nPredicted Expense for next month ({next_month_date.strftime('%Y-%m')}): {predicted_expense:.2f}\")\n",
    "    \n",
    "    return predicted_expense\n",
    "\n",
    "# Example usage:\n",
    "user_id = \"03afbd23-ccd9-46d9-b69a-56b7b1d9a6f0\"\n",
    "try:\n",
    "    predict_next_month_expense(user_id)\n",
    "except Exception as e:\n",
    "    print(\"Error:\", e)\n"
   ]
  },
  {
   "cell_type": "code",
   "execution_count": 5,
   "id": "e1824f87",
   "metadata": {},
   "outputs": [
    {
     "name": "stderr",
     "output_type": "stream",
     "text": [
      "C:\\Users\\menna\\AppData\\Local\\Temp\\ipykernel_2780\\81130755.py:16: UserWarning: Converting to PeriodArray/Index representation will drop timezone information.\n",
      "  df['created_at'] = pd.to_datetime(df['created_at']).dt.to_period('M').dt.to_timestamp()\n"
     ]
    },
    {
     "name": "stdout",
     "output_type": "stream",
     "text": [
      "Past 3 full months Expenses:\n",
      "2025-03: 2937.38\n",
      "2025-04: 2811.40\n",
      "2025-05: 2321.22\n",
      "1/1 [==============================] - 1s 939ms/step\n",
      "\n",
      "Predicted Expense for next month (2025-06): 1709.68\n"
     ]
    }
   ],
   "source": [
    "def predict_next_month_expense(user_id):\n",
    "    # Fetch monthly features\n",
    "    feature_matrix = fetch_monthly_expense_features(user_id)\n",
    "    \n",
    "    # Remove current ongoing month if today is not the last day of the month\n",
    "    today = pd.Timestamp(datetime.today().date())\n",
    "    last_date = feature_matrix['created_at'].max()\n",
    "    \n",
    "    # Check if last_date month is current month and partial\n",
    "    if (last_date.year == today.year) and (last_date.month == today.month):\n",
    "        # Drop last_date month from data (partial month)\n",
    "        feature_matrix = feature_matrix[feature_matrix['created_at'] < last_date]\n",
    "    \n",
    "    if len(feature_matrix) < 3:\n",
    "        raise ValueError(\"Not enough full months of data (need at least 3).\")\n",
    "    \n",
    "    scaler = joblib.load('scaler.save')\n",
    "    model = load_model('lstm.h5')\n",
    "    \n",
    "    feature_columns = [\"Education\", \"Entertainment\", \"Fashion\", \"Food\", \"Lifestyle\", \"Transportation\", \"Health\"]\n",
    "    \n",
    "    # Use last 3 full months of features\n",
    "    last_3_months = feature_matrix.tail(3)\n",
    "    \n",
    "    # Print past 3 months expenses\n",
    "    print(\"Past 3 full months Expenses:\")\n",
    "    for date, expense in zip(last_3_months['created_at'], last_3_months['Expenses']):\n",
    "        print(f\"{date.strftime('%Y-%m')}: {expense:.2f}\")\n",
    "    \n",
    "    # Scale features (exclude 'Expenses' and date)\n",
    "    scaled_features = scaler.transform(last_3_months[feature_columns])\n",
    "    \n",
    "    # Prepare input shape (1, 3, 7)\n",
    "    model_input = np.expand_dims(scaled_features, axis=0)\n",
    "    \n",
    "    # Predict next month expense\n",
    "    predicted_expense = model.predict(model_input)[0, 0]\n",
    "    \n",
    "    # Calculate next month date (last date + 1 month)\n",
    "    next_month_date = (last_3_months['created_at'].max() + pd.offsets.MonthBegin(1))\n",
    "    \n",
    "    print(f\"\\nPredicted Expense for next month ({next_month_date.strftime('%Y-%m')}): {predicted_expense:.2f}\")\n",
    "    \n",
    "    return predicted_expense\n",
    "\n",
    "# Example usage:\n",
    "user_id = \"03afbd23-ccd9-46d9-b69a-56b7b1d9a6f0\"\n",
    "try:\n",
    "    predict_next_month_expense(user_id)\n",
    "except Exception as e:\n",
    "    print(\"Error:\", e)"
   ]
  },
  {
   "cell_type": "code",
   "execution_count": null,
   "id": "3e9d55c5",
   "metadata": {},
   "outputs": [],
   "source": []
  }
 ],
 "metadata": {
  "kernelspec": {
   "display_name": "Python 3",
   "language": "python",
   "name": "python3"
  },
  "language_info": {
   "codemirror_mode": {
    "name": "ipython",
    "version": 3
   },
   "file_extension": ".py",
   "mimetype": "text/x-python",
   "name": "python",
   "nbconvert_exporter": "python",
   "pygments_lexer": "ipython3",
   "version": "3.11.5"
  }
 },
 "nbformat": 4,
 "nbformat_minor": 5
}
